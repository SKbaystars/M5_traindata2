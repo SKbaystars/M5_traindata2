{
  "nbformat": 4,
  "nbformat_minor": 0,
  "metadata": {
    "colab": {
      "name": "M5_traindata2.ipynb",
      "provenance": [],
      "machine_shape": "hm"
    },
    "kernelspec": {
      "name": "python3",
      "display_name": "Python 3"
    },
    "accelerator": "GPU"
  },
  "cells": [
    {
      "cell_type": "code",
      "metadata": {
        "id": "i_6GlMDNXbEC",
        "colab_type": "code",
        "outputId": "e3db9cbd-c1dd-49d6-cf0f-dee77c182d01",
        "colab": {
          "base_uri": "https://localhost:8080/",
          "height": 145
        }
      },
      "source": [
        "%matplotlib inline\n",
        "import matplotlib.pyplot as plt\n",
        "import numpy as np\n",
        "import pandas as pd\n",
        "import copy\n",
        "import io\n",
        "from google.colab import drive\n",
        "import threading\n",
        "import multiprocessing\n",
        "import time\n",
        "import tensorflow as tf\n",
        "drive.mount('/content/drive')\n",
        "import tensorflow as tf\n",
        "import os.path\n",
        "tf.test.gpu_device_name()"
      ],
      "execution_count": 1,
      "outputs": [
        {
          "output_type": "stream",
          "text": [
            "Go to this URL in a browser: https://accounts.google.com/o/oauth2/auth?client_id=947318989803-6bn6qk8qdgf4n4g3pfee6491hc0brc4i.apps.googleusercontent.com&redirect_uri=urn%3aietf%3awg%3aoauth%3a2.0%3aoob&response_type=code&scope=email%20https%3a%2f%2fwww.googleapis.com%2fauth%2fdocs.test%20https%3a%2f%2fwww.googleapis.com%2fauth%2fdrive%20https%3a%2f%2fwww.googleapis.com%2fauth%2fdrive.photos.readonly%20https%3a%2f%2fwww.googleapis.com%2fauth%2fpeopleapi.readonly\n",
            "\n",
            "Enter your authorization code:\n",
            "··········\n",
            "Mounted at /content/drive\n"
          ],
          "name": "stdout"
        },
        {
          "output_type": "execute_result",
          "data": {
            "text/plain": [
              "'/device:GPU:0'"
            ]
          },
          "metadata": {
            "tags": []
          },
          "execution_count": 1
        }
      ]
    },
    {
      "cell_type": "code",
      "metadata": {
        "id": "8Lnabt3iZRF4",
        "colab_type": "code",
        "colab": {}
      },
      "source": [
        "import os.path\n",
        "\n",
        "train_data = pd.read_csv(\"/content/drive/My Drive/google_notebook/M5_traindata2/sales_train_validation.csv\")\n",
        "train_data_b = train_data\n",
        "calendar_data = pd.read_csv(\"/content/drive/My Drive/google_notebook/M5_traindata2/calendar.csv\")\n",
        "sellprices2_data = pd.read_csv(\"/content/drive/My Drive/google_notebook/M5_traindata2/sell_prices2.csv\")\n",
        "calendar_data2 = pd.read_csv(\"/content/drive/My Drive/google_notebook/M5_traindata2/calendar2.csv\")\n",
        "\n",
        "days_num = 1913\n",
        "\n",
        "cols = [\"id\", \"item_id\", \"dept_id\", \"cat_id\", \"store_id\", \"state_id\", \"wm_yr_wk\", \"wday\", \"month\", \"year\", \"d\",\n",
        "        \"Religious\", \"National\", \"Cultural\", \"Sporting\", \"snap\"] #\"price\", \"price_down\", \"price_up\", \"value\"は後程追加\n",
        "train_data2a0 = pd.DataFrame(index=[ij for ij in range(days_num)], columns=cols)\n",
        "\n",
        "start_n = 0\n",
        "\n",
        "thread_num = 4 #スレッド数\n",
        "process_num = 8 #プロセス数\n",
        "\n",
        "current_num = [-1 for jj in range(thread_num + process_num)]  # 実行中のファイル番号(重複処理を防ぐ)\n",
        "\n",
        "def make_tdb(meirei):\n",
        "  exec(meirei)\n",
        "\n",
        "\n",
        "def stap(ST):\n",
        "        return calendar_data2[\"snap_\" + ST]\n",
        "\n",
        "def traindata2_making(th_num, df_name):\n",
        "    for ii in range(start_n, len(train_data_b)):\n",
        "        if ((ii in current_num) == False): #その行は処理されていない\n",
        "            current_num[th_num] = ii\n",
        "            if (os.path.isfile(\"/content/drive/My Drive/google_notebook/M5_traindata2/train_data2a/train2a_\"+ df_name +\"_\" + str(ii) + \".csv\") == False):  # ファイルがまだ作成されていない\n",
        "                train_data2a = train_data2a0.copy()\n",
        "                tra_sir = train_data_b.iloc[ii]\n",
        "                for jj in range(days_num):train_data2a.iloc[jj,0:6] = tra_sir[0:6]\n",
        "                train_data2a.iloc[:,6] = calendar_data.iloc[:,1] #週\n",
        "                train_data2a.iloc[:,7:11] = calendar_data.iloc[:,3:7] #年, 月, 曜日\n",
        "                train_data2a.iloc[:,11:15] = calendar_data2.iloc[:,1:5] #イベント情報\n",
        "                train_data2a.iloc[:,15] = stap(tra_sir[5]) #snap\n",
        "\n",
        "                sap_mindata = sellprices2_data[sellprices2_data.item_id == tra_sir[1]]  # sellpricesの中から必要なデータを抽出\n",
        "                sap_mindata = sap_mindata[sap_mindata.store_id == tra_sir[4]]\n",
        "                sap_mindata = sap_mindata.drop([\"store_id\", \"item_id\"], axis=1)\n",
        "\n",
        "                train_data2a = pd.merge(train_data2a, sap_mindata, on='wm_yr_wk', how='left') #価格とその変化\n",
        "\n",
        "                train_data2a[\"value\"] = tra_sir[6:].to_list()\n",
        "\n",
        "                train_data2a.to_csv(\n",
        "                    \"/content/drive/My Drive/google_notebook/M5_traindata2/train_data2a/train2a_\"+ df_name +\"_\" + str(ii) + \".csv\", index=False)\n",
        "            current_num[th_num] = -1\n",
        "\n",
        "def combine_datas(df_name, meirei):\n",
        "  make_tdb(meirei)\n",
        "  thread_list = []\n",
        "  with tf.device('/cpu:0'):\n",
        "    for i in range(thread_num):\n",
        "        thread = threading.Thread(target=traindata2_making, args=(i,df_name,))\n",
        "        thread.start()\n",
        "        thread_list.append(thread)\n",
        "        print(i)\n",
        "        sleep_seconds = 1\n",
        "        time.sleep(sleep_seconds)\n",
        "\n",
        "  with tf.device('/gpu:0'):\n",
        "    for i2 in range(thread_num, thread_num + process_num):\n",
        "        mp = threading.Thread(target=traindata2_making, args=(i2,df_name,))\n",
        "        mp.start()\n",
        "        thread_list.append(thread)\n",
        "        print(i2)\n",
        "        sleep_seconds = 1\n",
        "        time.sleep(sleep_seconds)\n",
        "\n",
        "  while(True):\n",
        "    print('\\r', end='')\n",
        "    print(current_num, end='')\n",
        "    sleep_seconds = 2\n",
        "    time.sleep(sleep_seconds)\n",
        "\n",
        "  for thread in thread_list:\n",
        "      thread.join()\n",
        "\n",
        "  print(df_name + \"complete\")"
      ],
      "execution_count": 0,
      "outputs": []
    },
    {
      "cell_type": "code",
      "metadata": {
        "id": "tS5LPYnLX0ho",
        "colab_type": "code",
        "colab": {
          "base_uri": "https://localhost:8080/",
          "height": 251
        },
        "outputId": "ff522068-d18b-4275-c134-2243926e7b3f"
      },
      "source": [
        "combine_datas(\"x2_data_CA_1\",\"train_data_b = train_data[train_data[\\\"store_id\\\"] == \\\"CA_1\\\"]\")\n",
        "combine_datas(\"x2_data_CA_2\",\"train_data_b = train_data[train_data[\\\"store_id\\\"] == \\\"CA_2\\\"]\")\n",
        "combine_datas(\"x2_data_CA_3\",\"train_data_b = train_data[train_data[\\\"store_id\\\"] == \\\"CA_3\\\"]\")\n",
        "combine_datas(\"x2_data_TX_1\",\"train_data_b = train_data[train_data[\\\"store_id\\\"] == \\\"TX_1\\\"]\")\n",
        "combine_datas(\"x2_data_TX_2\",\"train_data_b = train_data[train_data[\\\"store_id\\\"] == \\\"TX_2\\\"]\")\n",
        "combine_datas(\"x2_data_TX_3\",\"train_data_b = train_data[train_data[\\\"store_id\\\"] == \\\"TX_3\\\"]\")\n",
        "combine_datas(\"x2_data_WI_1\",\"train_data_b = train_data[train_data[\\\"store_id\\\"] == \\\"WI_1\\\"]\")\n",
        "combine_datas(\"x2_data_WI_2\",\"train_data_b = train_data[train_data[\\\"store_id\\\"] == \\\"WI_2\\\"]\")\n",
        "combine_datas(\"x2_data_WI_3\",\"train_data_b = train_data[train_data[\\\"store_id\\\"] == \\\"WI_3\\\"]\")"
      ],
      "execution_count": 0,
      "outputs": [
        {
          "output_type": "stream",
          "text": [
            "0\n",
            "1\n",
            "2\n",
            "3\n",
            "4\n",
            "5\n",
            "6\n",
            "7\n",
            "8\n",
            "9\n",
            "10\n",
            "11\n",
            "[7750, 7746, 7747, 7743, 7752, 7739, 7748, 7745, 7749, 7741, 7751, 7744]"
          ],
          "name": "stdout"
        }
      ]
    },
    {
      "cell_type": "code",
      "metadata": {
        "id": "4WjpM7g63Ast",
        "colab_type": "code",
        "colab": {}
      },
      "source": [
        "combine_datas(\"x4_data_FOODS_1\",\"train_data_b = train_data[train_data[\\\"dept_id\\\"] == \\\"x4_data_FOODS_1\\\"]\")\n",
        "combine_datas(\"x4_data_FOODS_2\",\"train_data_b = train_data[train_data[\\\"dept_id\\\"] == \\\"x4_data_FOODS_2\\\"]\")\n",
        "combine_datas(\"x4_data_FOODS_3\",\"train_data_b = train_data[train_data[\\\"dept_id\\\"] == \\\"x4_data_FOODS_3\\\"]\")\n",
        "combine_datas(\"x4_data_HOUSEHOLD_1\",\"train_data_b = train_data[train_data[\\\"dept_id\\\"] == \\\"x4_data_HOUSEHOLD_1\\\"]\")\n",
        "combine_datas(\"x4_data_HOUSEHOLD_2\",\"train_data_b = train_data[train_data[\\\"dept_id\\\"] == \\\"x4_data_HOUSEHOLD_2\\\"]\")\n",
        "combine_datas(\"x4_data_HOBBIES_1\",\"train_data_b = train_data[train_data[\\\"dept_id\\\"] == \\\"x4_data_HOBBIES_1\\\"]\")\n",
        "combine_datas(\"x4_data_HOBBIES_2\",\"train_data_b = train_data[train_data[\\\"dept_id\\\"] == \\\"x4_data_HOBBIES_2\\\"]\")"
      ],
      "execution_count": 0,
      "outputs": []
    },
    {
      "cell_type": "code",
      "metadata": {
        "id": "SbFArXHTvR31",
        "colab_type": "code",
        "colab": {}
      },
      "source": [
        "import os.path\n",
        "def df_combine(df_name):\n",
        "  try:\n",
        "    main_data = pd.read_csv(\"/content/drive/My Drive/google_notebook/M5_traindata2/train_data2a/train2a_kari.csv\")\n",
        "    with open(\"/content/drive/My Drive/google_notebook/M5_traindata2/train_data2a/train2a_syukeityu.txt\") as f:\n",
        "        ii = int(f.read())\n",
        "  except:\n",
        "    ii = 1\n",
        "  finally:\n",
        "    error_flag = False\n",
        "\n",
        "    while True:\n",
        "      try:\n",
        "        df = pd.read_csv\"/content/drive/My Drive/google_notebook/M5_traindata2/train_data2a/train2a_\"+ df_name +\"_\" + str(ii) + \".csv\")\n",
        "      except:\n",
        "        print(str(ii)+ \"doesn't exist\")\n",
        "        error_flag = True\n",
        "        if (os.path.isfile(\"/content/drive/My Drive/google_notebook/M5_traindata2/train_data2a/train2a_\" + str(ii) + \".csv\") == False): berak\n",
        "      else:\n",
        "        main_data = pd.concat([main_data, df])\n",
        "        print('\\r', end='')\n",
        "        print(ii, end='')\n",
        "        if (ii%100 == 0):\n",
        "          if (error_flag == True): sys.exit(1)\n",
        "          with open(\"/content/drive/My Drive/google_notebook/M5_traindata2/train_data2a/train2a_syukeityu.txt\", mode='w') as f:\n",
        "            f.write(str(ii))\n",
        "          main_data.to_csv(\"/content/drive/My Drive/google_notebook/M5_traindata2/train_data2a/train2a_kari.csv\", index=False)\n",
        "      finally:\n",
        "        ii += 1\n",
        "\n",
        "    main_data.to_csv(\"/content/drive/My Drive/google_notebook/M5_traindata2/train_data2a/train2a_kari.csv\", index=False)\n",
        "    os.remove(\"/content/drive/My Drive/google_notebook/M5_traindata2/train_data2a/train2a_syukeityu.txt\")\n",
        "    os.remove(\"/content/drive/My Drive/google_notebook/M5_traindata2/train_data2a/train2a_kari.csv\")"
      ],
      "execution_count": 0,
      "outputs": []
    },
    {
      "cell_type": "code",
      "metadata": {
        "id": "jokgyg3u6231",
        "colab_type": "code",
        "colab": {}
      },
      "source": [
        "df_combine(\"x2_data_CA_1\")\n",
        "df_combine(\"x2_data_CA_2\")\n",
        "df_combine(\"x2_data_CA_3\")\n",
        "df_combine(\"x2_data_TX_1\")\n",
        "df_combine(\"x2_data_TX_2\")\n",
        "df_combine(\"x2_data_TX_3\")\n",
        "df_combine(\"x2_data_WI_1\")\n",
        "df_combine(\"x2_data_WI_2\")\n",
        "df_combine(\"x2_data_WI_3\")\n",
        "df_combine(\"x4_data_FOODS_1\")\n",
        "df_combine(\"x4_data_FOODS_2\")\n",
        "df_combine(\"x4_data_FOODS_3\")\n",
        "df_combine(\"x4_data_HOUSEHOLD_1\")\n",
        "df_combine(\"x4_data_HOUSEHOLD_2\")\n",
        "df_combine(\"x4_data_HOBBIES_1\")\n",
        "df_combine(\"x4_data_HOBBIES_2\")"
      ],
      "execution_count": 0,
      "outputs": []
    },
    {
      "cell_type": "code",
      "metadata": {
        "id": "0sjbN23CbGiA",
        "colab_type": "code",
        "colab": {}
      },
      "source": [
        "ii = 1413\n",
        "if (os.path.isfile(\"/content/drive/My Drive/google_notebook/M5_traindata2/train_data2a/train2a_\" + str(ii) + \".csv\") == False):  # ファイルがまだ作成されていない\n",
        "  train_data2a = train_data2a0.copy()\n",
        "  tra_sir = train_data.iloc[ii]\n",
        "  for jj in range(days_num):train_data2a.iloc[jj,0:6] = tra_sir[0:6]\n",
        "  train_data2a.iloc[:,6] = calendar_data.iloc[:,1] #週\n",
        "  train_data2a.iloc[:,7:11] = calendar_data.iloc[:,3:7] #年, 月, 曜日\n",
        "  train_data2a.iloc[:,11:15] = calendar_data2.iloc[:,1:5] #イベント情報\n",
        "  train_data2a.iloc[:,15] = stap(tra_sir[5]) #snap\n",
        "\n",
        "  sap_mindata = sellprices2_data[sellprices2_data.item_id == tra_sir[1]]  # sellpricesの中から必要なデータを抽出\n",
        "  sap_mindata = sap_mindata[sap_mindata.store_id == tra_sir[4]]\n",
        "  sap_mindata = sap_mindata.drop([\"store_id\", \"item_id\"], axis=1)\n",
        "\n",
        "  train_data2a = pd.merge(train_data2a, sap_mindata, on='wm_yr_wk', how='left') #価格とその変化\n",
        "\n",
        "  train_data2a[\"value\"] = tra_sir[6:].to_list()\n",
        "\n",
        "  train_data2a.to_csv(\n",
        "      \"/content/drive/My Drive/google_notebook/M5_traindata2/train_data2a/train2a_\" + str(ii) + \".csv\", index=False)\n",
        "else: print(\"files exist\")"
      ],
      "execution_count": 0,
      "outputs": []
    },
    {
      "cell_type": "markdown",
      "metadata": {
        "id": "sHFvXj144O7k",
        "colab_type": "text"
      },
      "source": [
        "各種データを学習"
      ]
    },
    {
      "cell_type": "code",
      "metadata": {
        "id": "bWT_nxemF1aH",
        "colab_type": "code",
        "colab": {}
      },
      "source": [
        "import pickle\n",
        "import lightgbm as lgb\n",
        "import gc\n",
        "x_list = [\"x1_data_CA\",\"x1_data_TX\",\"x1_data_WI\",\"x2_data_CA_1\",\"x2_data_CA_2\",\"x2_data_CA_3\",\"x2_data_TX_1\",\"x2_data_TX_2\",\"x2_data_TX_3\",\"x2_data_WI_1\",\"x2_data_WI_2\",\"x2_data_WI_3\",\"x3_data_FOODS\",\"x3_data_HOUSEHOLD\",\"x3_data_HOBBIES\",\"x4_data_FOODS_1\",\"x4_data_FOODS_2\",\"x4_data_FOODS_3\",\"x4_data_HOUSEHOLD_1\",\"x4_data_HOUSEHOLD_2\",\"x4_data_HOBBIES_1\",\"x4_data_HOBBIES_2\"]\n",
        "in_cols = [\"wday\",\"month\",\"year\",\"Religious\",\"National\",\"Cultural\",\"Sporting\",\"snap\",\"sell_price\",\"price_down\",\"price_up\"]\n",
        "categorical_features = [\"wday\",\"month\",\"year\",\"Religious\",\"National\",\"Cultural\",\"Sporting\",\"snap\",\"price_down\",\"price_up\"] #販売価格以外をカテゴリ変数化\n",
        "lgb_params = {\"objective\":\"regression\", \n",
        "              \"metric\":\"rmse\", \n",
        "              \"verbosity\": -1}\n",
        "\n",
        "for tt in x_list:\n",
        "  mdax = pd.read_csv(\"/content/drive/My Drive/google_notebook/M5_traindata2/train_data2a/\" + tt + \".csv\")\n",
        "  train_input = mdax[in_cols]\n",
        "  train_result = mdax[\"value\"]\n",
        "  train_input = train_input.astype('category')\n",
        "\n",
        "  train_datas = lgb.Dataset(train_input, train_result)\n",
        "\n",
        "  clf = lgb.train(lgb_params, train_datas)\n",
        "\n",
        "  file = 'trained_model_' + tt + '.pkl'\n",
        "  pickle.dump(clf, open(file, 'wb'))\n",
        "\n",
        "  del clf\n",
        "  gc.collect()"
      ],
      "execution_count": 0,
      "outputs": []
    },
    {
      "cell_type": "code",
      "metadata": {
        "id": "MkbPnJek4I9J",
        "colab_type": "code",
        "colab": {}
      },
      "source": [
        "import gc\n",
        "mda = pd.read_csv(\"/content/drive/My Drive/google_notebook/M5_traindata2/train2a_all.csv\")\n",
        "\n",
        "test_data1886_1913 = mda[mda['d'] >= 1886]\n",
        "test_data1886_1913 = test_data1886_1913[test_data1886_1913['d'] <= 1913]\n",
        "test_data1886_1913.to_csv(\"/content/drive/My Drive/google_notebook/M5_traindata2/train_data2a/test_data1886_1913.csv\", index=False)"
      ],
      "execution_count": 0,
      "outputs": []
    }
  ]
}