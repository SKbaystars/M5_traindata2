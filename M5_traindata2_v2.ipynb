{
  "nbformat": 4,
  "nbformat_minor": 0,
  "metadata": {
    "colab": {
      "name": "M5_traindata2.ipynb",
      "provenance": []
    },
    "kernelspec": {
      "name": "python3",
      "display_name": "Python 3"
    },
    "accelerator": "GPU"
  },
  "cells": [
    {
      "cell_type": "code",
      "metadata": {
        "id": "i_6GlMDNXbEC",
        "colab_type": "code",
        "outputId": "271200db-e181-40c0-8e57-8df713656b9a",
        "colab": {
          "base_uri": "https://localhost:8080/",
          "height": 53
        }
      },
      "source": [
        "%matplotlib inline\n",
        "import matplotlib.pyplot as plt\n",
        "import numpy as np\n",
        "import pandas as pd\n",
        "import copy\n",
        "import io\n",
        "from google.colab import drive\n",
        "import threading\n",
        "import multiprocessing\n",
        "import time\n",
        "import tensorflow as tf\n",
        "drive.mount('/content/drive')\n",
        "import tensorflow as tf\n",
        "import os.path\n",
        "tf.test.gpu_device_name()"
      ],
      "execution_count": 0,
      "outputs": [
        {
          "output_type": "stream",
          "text": [
            "Drive already mounted at /content/drive; to attempt to forcibly remount, call drive.mount(\"/content/drive\", force_remount=True).\n"
          ],
          "name": "stdout"
        },
        {
          "output_type": "execute_result",
          "data": {
            "text/plain": [
              "'/device:GPU:0'"
            ]
          },
          "metadata": {
            "tags": []
          },
          "execution_count": 1
        }
      ]
    },
    {
      "cell_type": "code",
      "metadata": {
        "id": "osuRN9pnFDM3",
        "colab_type": "code",
        "outputId": "d731efdc-a64c-425c-9c34-8c112fa9fe57",
        "colab": {
          "base_uri": "https://localhost:8080/",
          "height": 143
        }
      },
      "source": [
        "import glob\n",
        "glob.glob(\"/content/drive/My Drive/google_notebook/M5_traindata2/*\")"
      ],
      "execution_count": 0,
      "outputs": [
        {
          "output_type": "execute_result",
          "data": {
            "text/plain": [
              "['/content/drive/My Drive/google_notebook/M5_traindata2/calendar2.csv',\n",
              " '/content/drive/My Drive/google_notebook/M5_traindata2/calendar.csv',\n",
              " '/content/drive/My Drive/google_notebook/M5_traindata2/sales_train_validation.csv',\n",
              " '/content/drive/My Drive/google_notebook/M5_traindata2/sample_submission.csv',\n",
              " '/content/drive/My Drive/google_notebook/M5_traindata2/sell_prices.csv',\n",
              " '/content/drive/My Drive/google_notebook/M5_traindata2/sell_prices2.csv',\n",
              " '/content/drive/My Drive/google_notebook/M5_traindata2/train_data2a']"
            ]
          },
          "metadata": {
            "tags": []
          },
          "execution_count": 12
        }
      ]
    },
    {
      "cell_type": "code",
      "metadata": {
        "id": "8Lnabt3iZRF4",
        "colab_type": "code",
        "outputId": "14eb8ae1-0ba9-4c49-9a4c-66b313bcd26a",
        "colab": {
          "base_uri": "https://localhost:8080/",
          "height": 269
        }
      },
      "source": [
        "import os.path\n",
        "\n",
        "train_data = pd.read_csv(\"/content/drive/My Drive/google_notebook/M5_traindata2/sales_train_validation.csv\")\n",
        "calendar_data = pd.read_csv(\"/content/drive/My Drive/google_notebook/M5_traindata2/calendar.csv\")\n",
        "sellprices2_data = pd.read_csv(\"/content/drive/My Drive/google_notebook/M5_traindata2/sell_prices2.csv\")\n",
        "calendar_data2 = pd.read_csv(\"/content/drive/My Drive/google_notebook/M5_traindata2/calendar2.csv\")\n",
        "\n",
        "days_num = 1913\n",
        "\n",
        "cols = [\"id\", \"item_id\", \"dept_id\", \"cat_id\", \"store_id\", \"state_id\", \"wm_yr_wk\", \"wday\", \"month\", \"year\", \"d\",\n",
        "        \"Religious\", \"National\", \"Cultural\", \"Sporting\", \"snap\"] #\"price\", \"price_down\", \"price_up\", \"value\"は後程追加\n",
        "train_data2a0 = pd.DataFrame(index=[ij for ij in range(days_num)], columns=cols)\n",
        "\n",
        "start_n = 0\n",
        "\n",
        "thread_num = 4 #スレッド数\n",
        "process_num = 8 #プロセス数\n",
        "\n",
        "print(len(train_data))\n",
        "\n",
        "current_num = [-1 for jj in range(thread_num + process_num)]  # 実行中のファイル番号(重複処理を防ぐ)\n",
        "\n",
        "def stap(ST):\n",
        "        return calendar_data2[\"snap_\" + ST]\n",
        "\n",
        "def traindata2_making(th_num):\n",
        "    for ii in range(start_n, len(train_data)):\n",
        "        if ((ii in current_num) == False): #その行は処理されていない\n",
        "            current_num[th_num] = ii\n",
        "            if (os.path.isfile(\"/content/drive/My Drive/google_notebook/M5_traindata2/train_data2a/train2a_\" + str(ii) + \".csv\") == False):  # ファイルがまだ作成されていない\n",
        "                train_data2a = train_data2a0.copy()\n",
        "                tra_sir = train_data.iloc[ii]\n",
        "                for jj in range(days_num):train_data2a.iloc[jj,0:6] = tra_sir[0:6]\n",
        "                train_data2a.iloc[:,6] = calendar_data.iloc[:,1] #週\n",
        "                train_data2a.iloc[:,7:11] = calendar_data.iloc[:,3:7] #年, 月, 曜日\n",
        "                train_data2a.iloc[:,11:15] = calendar_data2.iloc[:,1:5] #イベント情報\n",
        "                train_data2a.iloc[:,15] = stap(tra_sir[5]) #snap\n",
        "\n",
        "                sap_mindata = sellprices2_data[sellprices2_data.item_id == tra_sir[1]]  # sellpricesの中から必要なデータを抽出\n",
        "                sap_mindata = sap_mindata[sap_mindata.store_id == tra_sir[4]]\n",
        "                sap_mindata = sap_mindata.drop([\"store_id\", \"item_id\"], axis=1)\n",
        "\n",
        "                train_data2a = pd.merge(train_data2a, sap_mindata, on='wm_yr_wk', how='left') #価格とその変化\n",
        "\n",
        "                train_data2a[\"value\"] = tra_sir[6:].to_list()\n",
        "\n",
        "                train_data2a.to_csv(\n",
        "                    \"/content/drive/My Drive/google_notebook/M5_traindata2/train_data2a/train2a_\" + str(ii) + \".csv\", index=False)\n",
        "            current_num[th_num] = -1\n",
        "\n",
        "thread_list = []\n",
        "with tf.device('/cpu:0'):\n",
        "  for i in range(thread_num):\n",
        "      thread = threading.Thread(target=traindata2_making, args=(i,))\n",
        "      thread.start()\n",
        "      thread_list.append(thread)\n",
        "      print(i)\n",
        "      sleep_seconds = 1\n",
        "      time.sleep(sleep_seconds)\n",
        "\n",
        "with tf.device('/gpu:0'):\n",
        "  for i2 in range(thread_num, thread_num + process_num):\n",
        "      mp = threading.Thread(target=traindata2_making, args=(i2,))\n",
        "      mp.start()\n",
        "      thread_list.append(thread)\n",
        "      print(i2)\n",
        "      sleep_seconds = 1\n",
        "      time.sleep(sleep_seconds)\n",
        "\n",
        "while(True):\n",
        "  print('\\r', end='')\n",
        "  print(current_num, end='')\n",
        "  sleep_seconds = 2\n",
        "  time.sleep(sleep_seconds)\n",
        "\n",
        "for thread in thread_list:\n",
        "    thread.join()"
      ],
      "execution_count": 0,
      "outputs": [
        {
          "output_type": "stream",
          "text": [
            "30490\n",
            "0\n",
            "1\n",
            "2\n",
            "3\n",
            "4\n",
            "5\n",
            "6\n",
            "7\n",
            "8\n",
            "9\n",
            "10\n",
            "11\n",
            "[21532, 21531, 21530, 21534, 21535, 21536, 21539, 21528, 21537, 21540, 21538, 21533]"
          ],
          "name": "stdout"
        }
      ]
    },
    {
      "cell_type": "code",
      "metadata": {
        "id": "pe98eyObyB9a",
        "colab_type": "code",
        "outputId": "18b76876-e9f2-41f8-a462-a4fcdd9fc5e2",
        "colab": {
          "base_uri": "https://localhost:8080/",
          "height": 233
        }
      },
      "source": [
        "main_data = pd.read_csv(\"/content/drive/My Drive/google_notebook/M5_traindata2/train_data2a/train2a_0.csv\")\n",
        "\n",
        "ii = 1\n",
        "while True:\n",
        "  try:\n",
        "    df = pd.read_csv(\"/content/drive/My Drive/google_notebook/M5_traindata2/train_data2a/train2a_\" + str(ii) + \".csv\")\n",
        "  except:\n",
        "    break\n",
        "  main_data = pd.concat([main_data, df])\n",
        "  print('\\r', end='')\n",
        "  print(ii, end='')\n",
        "  ii += 1\n",
        "\n",
        "train_data2a.to_csv(\"/content/drive/My Drive/google_notebook/M5_traindata2/train_data2a/train2a_\" + str(ii) + \".csv\", index=False)"
      ],
      "execution_count": 0,
      "outputs": [
        {
          "output_type": "execute_result",
          "data": {
            "text/plain": [
              "d_1       0\n",
              "d_2       0\n",
              "d_3       0\n",
              "d_4       0\n",
              "d_5       0\n",
              "         ..\n",
              "d_1909    1\n",
              "d_1910    3\n",
              "d_1911    0\n",
              "d_1912    1\n",
              "d_1913    1\n",
              "Name: 0, Length: 1913, dtype: object"
            ]
          },
          "metadata": {
            "tags": []
          },
          "execution_count": 7
        }
      ]
    }
  ]
}