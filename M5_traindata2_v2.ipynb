{
  "nbformat": 4,
  "nbformat_minor": 0,
  "metadata": {
    "colab": {
      "name": "M5_traindata2.ipynb",
      "provenance": []
    },
    "kernelspec": {
      "name": "python3",
      "display_name": "Python 3"
    },
    "accelerator": "GPU"
  },
  "cells": [
    {
      "cell_type": "code",
      "metadata": {
        "id": "i_6GlMDNXbEC",
        "colab_type": "code",
        "outputId": "c3d1ed0b-c795-463d-96e4-d76e6dd85909",
        "colab": {
          "base_uri": "https://localhost:8080/",
          "height": 53
        }
      },
      "source": [
        "%matplotlib inline\n",
        "import matplotlib.pyplot as plt\n",
        "import numpy as np\n",
        "import pandas as pd\n",
        "import copy\n",
        "import io\n",
        "from google.colab import drive\n",
        "import threading\n",
        "import multiprocessing\n",
        "import time\n",
        "import tensorflow as tf\n",
        "drive.mount('/content/drive')\n",
        "import tensorflow as tf\n",
        "import os.path\n",
        "tf.test.gpu_device_name()"
      ],
      "execution_count": 1,
      "outputs": [
        {
          "output_type": "stream",
          "text": [
            "Drive already mounted at /content/drive; to attempt to forcibly remount, call drive.mount(\"/content/drive\", force_remount=True).\n"
          ],
          "name": "stdout"
        },
        {
          "output_type": "execute_result",
          "data": {
            "text/plain": [
              "'/device:GPU:0'"
            ]
          },
          "metadata": {
            "tags": []
          },
          "execution_count": 1
        }
      ]
    },
    {
      "cell_type": "code",
      "metadata": {
        "id": "osuRN9pnFDM3",
        "colab_type": "code",
        "outputId": "d731efdc-a64c-425c-9c34-8c112fa9fe57",
        "colab": {
          "base_uri": "https://localhost:8080/",
          "height": 143
        }
      },
      "source": [
        "import glob\n",
        "glob.glob(\"/content/drive/My Drive/google_notebook/M5_traindata2/*\")"
      ],
      "execution_count": 0,
      "outputs": [
        {
          "output_type": "execute_result",
          "data": {
            "text/plain": [
              "['/content/drive/My Drive/google_notebook/M5_traindata2/calendar2.csv',\n",
              " '/content/drive/My Drive/google_notebook/M5_traindata2/calendar.csv',\n",
              " '/content/drive/My Drive/google_notebook/M5_traindata2/sales_train_validation.csv',\n",
              " '/content/drive/My Drive/google_notebook/M5_traindata2/sample_submission.csv',\n",
              " '/content/drive/My Drive/google_notebook/M5_traindata2/sell_prices.csv',\n",
              " '/content/drive/My Drive/google_notebook/M5_traindata2/sell_prices2.csv',\n",
              " '/content/drive/My Drive/google_notebook/M5_traindata2/train_data2a']"
            ]
          },
          "metadata": {
            "tags": []
          },
          "execution_count": 12
        }
      ]
    },
    {
      "cell_type": "code",
      "metadata": {
        "id": "8Lnabt3iZRF4",
        "colab_type": "code",
        "outputId": "5d2d78a8-4766-4c57-a70c-0db90c018ddf",
        "colab": {
          "base_uri": "https://localhost:8080/",
          "height": 335
        }
      },
      "source": [
        "import os.path\n",
        "\n",
        "train_data = pd.read_csv(\"/content/drive/My Drive/google_notebook/M5_traindata2/sales_train_validation.csv\")\n",
        "calendar_data = pd.read_csv(\"/content/drive/My Drive/google_notebook/M5_traindata2/calendar.csv\")\n",
        "sellprices2_data = pd.read_csv(\"/content/drive/My Drive/google_notebook/M5_traindata2/sell_prices2.csv\")\n",
        "calendar_data2 = pd.read_csv(\"/content/drive/My Drive/google_notebook/M5_traindata2/calendar2.csv\")\n",
        "\n",
        "days_num = 1913\n",
        "\n",
        "cols = [\"id\", \"item_id\", \"dept_id\", \"cat_id\", \"store_id\", \"state_id\", \"wm_yr_wk\", \"wday\", \"month\", \"year\", \"d\",\n",
        "        \"Religious\", \"National\", \"Cultural\", \"Sporting\", \"snap\"] #\"price\", \"price_down\", \"price_up\", \"value\"は後程追加\n",
        "train_data2a0 = pd.DataFrame(index=[ij for ij in range(days_num)], columns=cols)\n",
        "\n",
        "start_n = 0\n",
        "\n",
        "thread_num = 4 #スレッド数\n",
        "process_num = 8 #プロセス数\n",
        "\n",
        "print(len(train_data))\n",
        "\n",
        "current_num = [-1 for jj in range(thread_num + process_num)]  # 実行中のファイル番号(重複処理を防ぐ)\n",
        "\n",
        "def stap(ST):\n",
        "        return calendar_data2[\"snap_\" + ST]\n",
        "\n",
        "def traindata2_making(th_num):\n",
        "    for ii in range(start_n, len(train_data)):\n",
        "        if ((ii in current_num) == False): #その行は処理されていない\n",
        "            current_num[th_num] = ii\n",
        "            if (os.path.isfile(\"/content/drive/My Drive/google_notebook/M5_traindata2/train_data2a/train2a_\" + str(ii) + \".csv\") == False):  # ファイルがまだ作成されていない\n",
        "                train_data2a = train_data2a0.copy()\n",
        "                tra_sir = train_data.iloc[ii]\n",
        "                for jj in range(days_num):train_data2a.iloc[jj,0:6] = tra_sir[0:6]\n",
        "                train_data2a.iloc[:,6] = calendar_data.iloc[:,1] #週\n",
        "                train_data2a.iloc[:,7:11] = calendar_data.iloc[:,3:7] #年, 月, 曜日\n",
        "                train_data2a.iloc[:,11:15] = calendar_data2.iloc[:,1:5] #イベント情報\n",
        "                train_data2a.iloc[:,15] = stap(tra_sir[5]) #snap\n",
        "\n",
        "                sap_mindata = sellprices2_data[sellprices2_data.item_id == tra_sir[1]]  # sellpricesの中から必要なデータを抽出\n",
        "                sap_mindata = sap_mindata[sap_mindata.store_id == tra_sir[4]]\n",
        "                sap_mindata = sap_mindata.drop([\"store_id\", \"item_id\"], axis=1)\n",
        "\n",
        "                train_data2a = pd.merge(train_data2a, sap_mindata, on='wm_yr_wk', how='left') #価格とその変化\n",
        "\n",
        "                train_data2a[\"value\"] = tra_sir[6:].to_list()\n",
        "\n",
        "                train_data2a.to_csv(\n",
        "                    \"/content/drive/My Drive/google_notebook/M5_traindata2/train_data2a/train2a_\" + str(ii) + \".csv\", index=False)\n",
        "            current_num[th_num] = -1\n",
        "\n",
        "thread_list = []\n",
        "with tf.device('/cpu:0'):\n",
        "  for i in range(thread_num):\n",
        "      thread = threading.Thread(target=traindata2_making, args=(i,))\n",
        "      thread.start()\n",
        "      thread_list.append(thread)\n",
        "      print(i)\n",
        "      sleep_seconds = 1\n",
        "      time.sleep(sleep_seconds)\n",
        "\n",
        "with tf.device('/gpu:0'):\n",
        "  for i2 in range(thread_num, thread_num + process_num):\n",
        "      mp = threading.Thread(target=traindata2_making, args=(i2,))\n",
        "      mp.start()\n",
        "      thread_list.append(thread)\n",
        "      print(i2)\n",
        "      sleep_seconds = 1\n",
        "      time.sleep(sleep_seconds)\n",
        "\n",
        "while(True):\n",
        "  print('\\r', end='')\n",
        "  print(current_num, end='')\n",
        "  sleep_seconds = 2\n",
        "  time.sleep(sleep_seconds)\n",
        "\n",
        "for thread in thread_list:\n",
        "    thread.join()"
      ],
      "execution_count": 0,
      "outputs": [
        {
          "output_type": "stream",
          "text": [
            "30490\n",
            "0\n",
            "1\n",
            "2\n",
            "3\n"
          ],
          "name": "stdout"
        },
        {
          "output_type": "error",
          "ename": "KeyboardInterrupt",
          "evalue": "ignored",
          "traceback": [
            "\u001b[0;31m---------------------------------------------------------------------------\u001b[0m",
            "\u001b[0;31mKeyboardInterrupt\u001b[0m                         Traceback (most recent call last)",
            "\u001b[0;32m<ipython-input-13-3f844498e81a>\u001b[0m in \u001b[0;36m<module>\u001b[0;34m()\u001b[0m\n\u001b[1;32m     57\u001b[0m       \u001b[0mprint\u001b[0m\u001b[0;34m(\u001b[0m\u001b[0mi\u001b[0m\u001b[0;34m)\u001b[0m\u001b[0;34m\u001b[0m\u001b[0;34m\u001b[0m\u001b[0m\n\u001b[1;32m     58\u001b[0m       \u001b[0msleep_seconds\u001b[0m \u001b[0;34m=\u001b[0m \u001b[0;36m1\u001b[0m\u001b[0;34m\u001b[0m\u001b[0;34m\u001b[0m\u001b[0m\n\u001b[0;32m---> 59\u001b[0;31m       \u001b[0mtime\u001b[0m\u001b[0;34m.\u001b[0m\u001b[0msleep\u001b[0m\u001b[0;34m(\u001b[0m\u001b[0msleep_seconds\u001b[0m\u001b[0;34m)\u001b[0m\u001b[0;34m\u001b[0m\u001b[0;34m\u001b[0m\u001b[0m\n\u001b[0m\u001b[1;32m     60\u001b[0m \u001b[0;34m\u001b[0m\u001b[0m\n\u001b[1;32m     61\u001b[0m \u001b[0;32mwith\u001b[0m \u001b[0mtf\u001b[0m\u001b[0;34m.\u001b[0m\u001b[0mdevice\u001b[0m\u001b[0;34m(\u001b[0m\u001b[0;34m'/gpu:0'\u001b[0m\u001b[0;34m)\u001b[0m\u001b[0;34m:\u001b[0m\u001b[0;34m\u001b[0m\u001b[0;34m\u001b[0m\u001b[0m\n",
            "\u001b[0;31mKeyboardInterrupt\u001b[0m: "
          ]
        }
      ]
    },
    {
      "cell_type": "code",
      "metadata": {
        "id": "0sjbN23CbGiA",
        "colab_type": "code",
        "outputId": "c3dafa88-21a8-4e91-a441-fe94b7fdf5db",
        "colab": {
          "base_uri": "https://localhost:8080/",
          "height": 35
        }
      },
      "source": [
        "ii = 1413\n",
        "if (os.path.isfile(\"/content/drive/My Drive/google_notebook/M5_traindata2/train_data2a/train2a_\" + str(ii) + \".csv\") == False):  # ファイルがまだ作成されていない\n",
        "  train_data2a = train_data2a0.copy()\n",
        "  tra_sir = train_data.iloc[ii]\n",
        "  for jj in range(days_num):train_data2a.iloc[jj,0:6] = tra_sir[0:6]\n",
        "  train_data2a.iloc[:,6] = calendar_data.iloc[:,1] #週\n",
        "  train_data2a.iloc[:,7:11] = calendar_data.iloc[:,3:7] #年, 月, 曜日\n",
        "  train_data2a.iloc[:,11:15] = calendar_data2.iloc[:,1:5] #イベント情報\n",
        "  train_data2a.iloc[:,15] = stap(tra_sir[5]) #snap\n",
        "\n",
        "  sap_mindata = sellprices2_data[sellprices2_data.item_id == tra_sir[1]]  # sellpricesの中から必要なデータを抽出\n",
        "  sap_mindata = sap_mindata[sap_mindata.store_id == tra_sir[4]]\n",
        "  sap_mindata = sap_mindata.drop([\"store_id\", \"item_id\"], axis=1)\n",
        "\n",
        "  train_data2a = pd.merge(train_data2a, sap_mindata, on='wm_yr_wk', how='left') #価格とその変化\n",
        "\n",
        "  train_data2a[\"value\"] = tra_sir[6:].to_list()\n",
        "\n",
        "  train_data2a.to_csv(\n",
        "      \"/content/drive/My Drive/google_notebook/M5_traindata2/train_data2a/train2a_\" + str(ii) + \".csv\", index=False)\n",
        "else: print(\"files exist\")"
      ],
      "execution_count": 0,
      "outputs": [
        {
          "output_type": "stream",
          "text": [
            "files exist\n"
          ],
          "name": "stdout"
        }
      ]
    },
    {
      "cell_type": "code",
      "metadata": {
        "id": "Nzo9kcqhbl3j",
        "colab_type": "code",
        "colab": {}
      },
      "source": [
        "df = pd.read_csv(\"/content/drive/My Drive/google_notebook/M5_traindata2/train_data2a/train2a_\" + str(1413) + \".csv\")"
      ],
      "execution_count": 0,
      "outputs": []
    },
    {
      "cell_type": "code",
      "metadata": {
        "id": "vrrd_oy9b-_o",
        "colab_type": "code",
        "colab": {}
      },
      "source": [
        "os.remove(\"/content/drive/My Drive/google_notebook/M5_traindata2/train_data2a/train2a_\" + str(1413) + \".csv\")"
      ],
      "execution_count": 0,
      "outputs": []
    },
    {
      "cell_type": "code",
      "metadata": {
        "id": "mBiucJR6EBH2",
        "colab_type": "code",
        "colab": {}
      },
      "source": [
        "main_data = pd.read_csv(\"/content/drive/My Drive/google_notebook/M5_traindata2/train_data2a/train2a_0.csv\")\n",
        "main_data.to_csv(\"/content/drive/My Drive/google_notebook/M5_traindata2/train_data2a/train2a_kari.csv\", index=False)\n",
        "with open(\"/content/drive/My Drive/google_notebook/M5_traindata2/train_data2a/train2a_syukeityu.txt\", mode='w') as f:\n",
        "    f.write(str(1))"
      ],
      "execution_count": 0,
      "outputs": []
    },
    {
      "cell_type": "code",
      "metadata": {
        "id": "pe98eyObyB9a",
        "colab_type": "code",
        "outputId": "65fe82a1-e1f8-413a-d17a-7c8f5feb428e",
        "colab": {
          "base_uri": "https://localhost:8080/",
          "height": 35
        }
      },
      "source": [
        "main_data = pd.read_csv(\"/content/drive/My Drive/google_notebook/M5_traindata2/train_data2a/train2a_kari.csv\")\n",
        "with open(\"/content/drive/My Drive/google_notebook/M5_traindata2/train_data2a/train2a_syukeityu.txt\") as f:\n",
        "    ii = int(f.read())\n",
        "max_ii = 30490\n",
        "error_flag = False\n",
        "\n",
        "while True:\n",
        "  try:\n",
        "    df = pd.read_csv(\"/content/drive/My Drive/google_notebook/M5_traindata2/train_data2a/train2a_\" + str(ii) + \".csv\")\n",
        "  except:\n",
        "    print(str(ii)+ \"doesn't exist\")\n",
        "    error_flag = True\n",
        "  else:\n",
        "    main_data = pd.concat([main_data, df])\n",
        "    print('\\r', end='')\n",
        "    print(ii, end='')\n",
        "    if (ii%100 == 0):\n",
        "      if (error_flag == True): sys.exit(1)\n",
        "      with open(\"/content/drive/My Drive/google_notebook/M5_traindata2/train_data2a/train2a_syukeityu.txt\", mode='w') as f:\n",
        "        f.write(str(ii))\n",
        "      main_data.to_csv(\"/content/drive/My Drive/google_notebook/M5_traindata2/train_data2a/train2a_kari.csv\", index=False)\n",
        "  finally:\n",
        "    ii += 1\n",
        "    \n",
        "  \n",
        "\n",
        "main_data.to_csv(\"/content/drive/My Drive/google_notebook/M5_traindata2/train_data2a/train2a_all.csv\", index=False)"
      ],
      "execution_count": 0,
      "outputs": [
        {
          "output_type": "stream",
          "text": [
            "\r1400"
          ],
          "name": "stdout"
        }
      ]
    },
    {
      "cell_type": "code",
      "metadata": {
        "id": "o97DGva9Y3zd",
        "colab_type": "code",
        "colab": {}
      },
      "source": [
        "with open(\"/content/drive/My Drive/google_notebook/M5_traindata2/train_data2a/train2a_syukeityu.txt\") as f:\n",
        "    ii = int(f.read()) + 1\n",
        "main_data = pd.read_csv(\"/content/drive/My Drive/google_notebook/M5_traindata2/train_data2a/train2a_\" + str(ii) + \".csv\")\n",
        "main_data.to_csv(\"/content/drive/My Drive/google_notebook/M5_traindata2/train_data2a/train2a_kari2.csv\", index=False)\n",
        "with open(\"/content/drive/My Drive/google_notebook/M5_traindata2/train_data2a/train2a_syukeityu2.txt\", mode='w') as f:\n",
        "    f.write(str(ii))"
      ],
      "execution_count": 0,
      "outputs": []
    },
    {
      "cell_type": "code",
      "metadata": {
        "id": "9GEPcZzFZcM8",
        "colab_type": "code",
        "colab": {
          "base_uri": "https://localhost:8080/",
          "height": 35
        },
        "outputId": "d1f524be-4ce3-4ce8-a293-e8d2979eaffc"
      },
      "source": [
        "main_data = pd.read_csv(\"/content/drive/My Drive/google_notebook/M5_traindata2/train_data2a/train2a_kari2.csv\")\n",
        "with open(\"/content/drive/My Drive/google_notebook/M5_traindata2/train_data2a/train2a_syukeityu2.txt\") as f:\n",
        "    ii = int(f.read())\n",
        "max_ii = 30490\n",
        "error_flag = False\n",
        "\n",
        "while True:\n",
        "  try:\n",
        "    df = pd.read_csv(\"/content/drive/My Drive/google_notebook/M5_traindata2/train_data2a/train2a_\" + str(ii) + \".csv\")\n",
        "  except:\n",
        "    print(str(ii)+ \"doesn't exist\")\n",
        "    error_flag = True\n",
        "  else:\n",
        "    main_data = pd.concat([main_data, df])\n",
        "    print('\\r', end='')\n",
        "    print(ii, end='')\n",
        "    if (ii%100 == 0):\n",
        "      if (error_flag == True): sys.exit(1)\n",
        "      with open(\"/content/drive/My Drive/google_notebook/M5_traindata2/train_data2a/train2a_syukeityu2.txt\", mode='w') as f:\n",
        "        f.write(str(ii))\n",
        "      main_data.to_csv(\"/content/drive/My Drive/google_notebook/M5_traindata2/train_data2a/train2a_kari2.csv\", index=False)\n",
        "  finally:\n",
        "    ii += 1\n",
        "    \n",
        "  \n",
        "\n",
        "main_data.to_csv(\"/content/drive/My Drive/google_notebook/M5_traindata2/train_data2a/train2a_all.csv\", index=False)"
      ],
      "execution_count": 0,
      "outputs": [
        {
          "output_type": "stream",
          "text": [
            "22486"
          ],
          "name": "stdout"
        }
      ]
    },
    {
      "cell_type": "code",
      "metadata": {
        "id": "1R0pt_PuvNJI",
        "colab_type": "code",
        "colab": {}
      },
      "source": [
        "with open(\"/content/drive/My Drive/google_notebook/M5_traindata2/train_data2a/train2a_syukeityu2.txt\") as f:\n",
        "    ii = int(f.read()) + 1\n",
        "main_data = pd.read_csv(\"/content/drive/My Drive/google_notebook/M5_traindata2/train_data2a/train2a_\" + str(ii) + \".csv\")\n",
        "main_data.to_csv(\"/content/drive/My Drive/google_notebook/M5_traindata2/train_data2a/train2a_kari3.csv\", index=False)\n",
        "with open(\"/content/drive/My Drive/google_notebook/M5_traindata2/train_data2a/train2a_syukeityu3.txt\", mode='w') as f:\n",
        "    f.write(str(ii))"
      ],
      "execution_count": 0,
      "outputs": []
    },
    {
      "cell_type": "code",
      "metadata": {
        "id": "SbFArXHTvR31",
        "colab_type": "code",
        "colab": {}
      },
      "source": [
        "main_data = pd.read_csv(\"/content/drive/My Drive/google_notebook/M5_traindata2/train_data2a/train2a_kari3.csv\")\n",
        "with open(\"/content/drive/My Drive/google_notebook/M5_traindata2/train_data2a/train2a_syukeityu3.txt\") as f:\n",
        "    ii = int(f.read())\n",
        "max_ii = 30490\n",
        "error_flag = False\n",
        "\n",
        "while True:\n",
        "  try:\n",
        "    df = pd.read_csv(\"/content/drive/My Drive/google_notebook/M5_traindata2/train_data2a/train2a_\" + str(ii) + \".csv\")\n",
        "  except:\n",
        "    print(str(ii)+ \"doesn't exist\")\n",
        "    error_flag = True\n",
        "  else:\n",
        "    main_data = pd.concat([main_data, df])\n",
        "    print('\\r', end='')\n",
        "    print(ii, end='')\n",
        "    if (ii%100 == 0):\n",
        "      if (error_flag == True): sys.exit(1)\n",
        "      with open(\"/content/drive/My Drive/google_notebook/M5_traindata2/train_data2a/train2a_syukeityu3.txt\", mode='w') as f:\n",
        "        f.write(str(ii))\n",
        "      main_data.to_csv(\"/content/drive/My Drive/google_notebook/M5_traindata2/train_data2a/train2a_kari3.csv\", index=False)\n",
        "  finally:\n",
        "    ii += 1\n",
        "    \n",
        "  \n",
        "\n",
        "main_data.to_csv(\"/content/drive/My Drive/google_notebook/M5_traindata2/train_data2a/train2a_all.csv\", index=False)"
      ],
      "execution_count": 0,
      "outputs": []
    }
  ]
}