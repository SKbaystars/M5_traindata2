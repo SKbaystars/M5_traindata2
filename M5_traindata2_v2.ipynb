{
  "nbformat": 4,
  "nbformat_minor": 0,
  "metadata": {
    "colab": {
      "name": "M5_traindata2.ipynb",
      "provenance": [],
      "machine_shape": "hm"
    },
    "kernelspec": {
      "name": "python3",
      "display_name": "Python 3"
    },
    "accelerator": "GPU"
  },
  "cells": [
    {
      "cell_type": "code",
      "metadata": {
        "id": "i_6GlMDNXbEC",
        "colab_type": "code",
        "outputId": "1d911f51-564e-41f4-8a46-74c68d6ee785",
        "colab": {
          "base_uri": "https://localhost:8080/",
          "height": 145
        }
      },
      "source": [
        "%matplotlib inline\n",
        "import matplotlib.pyplot as plt\n",
        "import numpy as np\n",
        "import pandas as pd\n",
        "import copy\n",
        "import io\n",
        "from google.colab import drive\n",
        "import threading\n",
        "import multiprocessing\n",
        "import time\n",
        "import tensorflow as tf\n",
        "drive.mount('/content/drive')\n",
        "import tensorflow as tf\n",
        "import os.path\n",
        "tf.test.gpu_device_name()"
      ],
      "execution_count": 1,
      "outputs": [
        {
          "output_type": "stream",
          "text": [
            "Go to this URL in a browser: https://accounts.google.com/o/oauth2/auth?client_id=947318989803-6bn6qk8qdgf4n4g3pfee6491hc0brc4i.apps.googleusercontent.com&redirect_uri=urn%3aietf%3awg%3aoauth%3a2.0%3aoob&response_type=code&scope=email%20https%3a%2f%2fwww.googleapis.com%2fauth%2fdocs.test%20https%3a%2f%2fwww.googleapis.com%2fauth%2fdrive%20https%3a%2f%2fwww.googleapis.com%2fauth%2fdrive.photos.readonly%20https%3a%2f%2fwww.googleapis.com%2fauth%2fpeopleapi.readonly\n",
            "\n",
            "Enter your authorization code:\n",
            "··········\n",
            "Mounted at /content/drive\n"
          ],
          "name": "stdout"
        },
        {
          "output_type": "execute_result",
          "data": {
            "text/plain": [
              "'/device:GPU:0'"
            ]
          },
          "metadata": {
            "tags": []
          },
          "execution_count": 1
        }
      ]
    },
    {
      "cell_type": "code",
      "metadata": {
        "id": "osuRN9pnFDM3",
        "colab_type": "code",
        "outputId": "d731efdc-a64c-425c-9c34-8c112fa9fe57",
        "colab": {
          "base_uri": "https://localhost:8080/",
          "height": 143
        }
      },
      "source": [
        "import glob\n",
        "glob.glob(\"/content/drive/My Drive/google_notebook/M5_traindata2/*\")"
      ],
      "execution_count": 0,
      "outputs": [
        {
          "output_type": "execute_result",
          "data": {
            "text/plain": [
              "['/content/drive/My Drive/google_notebook/M5_traindata2/calendar2.csv',\n",
              " '/content/drive/My Drive/google_notebook/M5_traindata2/calendar.csv',\n",
              " '/content/drive/My Drive/google_notebook/M5_traindata2/sales_train_validation.csv',\n",
              " '/content/drive/My Drive/google_notebook/M5_traindata2/sample_submission.csv',\n",
              " '/content/drive/My Drive/google_notebook/M5_traindata2/sell_prices.csv',\n",
              " '/content/drive/My Drive/google_notebook/M5_traindata2/sell_prices2.csv',\n",
              " '/content/drive/My Drive/google_notebook/M5_traindata2/train_data2a']"
            ]
          },
          "metadata": {
            "tags": []
          },
          "execution_count": 12
        }
      ]
    },
    {
      "cell_type": "code",
      "metadata": {
        "id": "8Lnabt3iZRF4",
        "colab_type": "code",
        "outputId": "5d2d78a8-4766-4c57-a70c-0db90c018ddf",
        "colab": {
          "base_uri": "https://localhost:8080/",
          "height": 335
        }
      },
      "source": [
        "import os.path\n",
        "\n",
        "train_data = pd.read_csv(\"/content/drive/My Drive/google_notebook/M5_traindata2/sales_train_validation.csv\")\n",
        "calendar_data = pd.read_csv(\"/content/drive/My Drive/google_notebook/M5_traindata2/calendar.csv\")\n",
        "sellprices2_data = pd.read_csv(\"/content/drive/My Drive/google_notebook/M5_traindata2/sell_prices2.csv\")\n",
        "calendar_data2 = pd.read_csv(\"/content/drive/My Drive/google_notebook/M5_traindata2/calendar2.csv\")\n",
        "\n",
        "days_num = 1913\n",
        "\n",
        "cols = [\"id\", \"item_id\", \"dept_id\", \"cat_id\", \"store_id\", \"state_id\", \"wm_yr_wk\", \"wday\", \"month\", \"year\", \"d\",\n",
        "        \"Religious\", \"National\", \"Cultural\", \"Sporting\", \"snap\"] #\"price\", \"price_down\", \"price_up\", \"value\"は後程追加\n",
        "train_data2a0 = pd.DataFrame(index=[ij for ij in range(days_num)], columns=cols)\n",
        "\n",
        "start_n = 0\n",
        "\n",
        "thread_num = 4 #スレッド数\n",
        "process_num = 8 #プロセス数\n",
        "\n",
        "print(len(train_data))\n",
        "\n",
        "current_num = [-1 for jj in range(thread_num + process_num)]  # 実行中のファイル番号(重複処理を防ぐ)\n",
        "\n",
        "def stap(ST):\n",
        "        return calendar_data2[\"snap_\" + ST]\n",
        "\n",
        "def traindata2_making(th_num):\n",
        "    for ii in range(start_n, len(train_data)):\n",
        "        if ((ii in current_num) == False): #その行は処理されていない\n",
        "            current_num[th_num] = ii\n",
        "            if (os.path.isfile(\"/content/drive/My Drive/google_notebook/M5_traindata2/train_data2a/train2a_\" + str(ii) + \".csv\") == False):  # ファイルがまだ作成されていない\n",
        "                train_data2a = train_data2a0.copy()\n",
        "                tra_sir = train_data.iloc[ii]\n",
        "                for jj in range(days_num):train_data2a.iloc[jj,0:6] = tra_sir[0:6]\n",
        "                train_data2a.iloc[:,6] = calendar_data.iloc[:,1] #週\n",
        "                train_data2a.iloc[:,7:11] = calendar_data.iloc[:,3:7] #年, 月, 曜日\n",
        "                train_data2a.iloc[:,11:15] = calendar_data2.iloc[:,1:5] #イベント情報\n",
        "                train_data2a.iloc[:,15] = stap(tra_sir[5]) #snap\n",
        "\n",
        "                sap_mindata = sellprices2_data[sellprices2_data.item_id == tra_sir[1]]  # sellpricesの中から必要なデータを抽出\n",
        "                sap_mindata = sap_mindata[sap_mindata.store_id == tra_sir[4]]\n",
        "                sap_mindata = sap_mindata.drop([\"store_id\", \"item_id\"], axis=1)\n",
        "\n",
        "                train_data2a = pd.merge(train_data2a, sap_mindata, on='wm_yr_wk', how='left') #価格とその変化\n",
        "\n",
        "                train_data2a[\"value\"] = tra_sir[6:].to_list()\n",
        "\n",
        "                train_data2a.to_csv(\n",
        "                    \"/content/drive/My Drive/google_notebook/M5_traindata2/train_data2a/train2a_\" + str(ii) + \".csv\", index=False)\n",
        "            current_num[th_num] = -1\n",
        "\n",
        "thread_list = []\n",
        "with tf.device('/cpu:0'):\n",
        "  for i in range(thread_num):\n",
        "      thread = threading.Thread(target=traindata2_making, args=(i,))\n",
        "      thread.start()\n",
        "      thread_list.append(thread)\n",
        "      print(i)\n",
        "      sleep_seconds = 1\n",
        "      time.sleep(sleep_seconds)\n",
        "\n",
        "with tf.device('/gpu:0'):\n",
        "  for i2 in range(thread_num, thread_num + process_num):\n",
        "      mp = threading.Thread(target=traindata2_making, args=(i2,))\n",
        "      mp.start()\n",
        "      thread_list.append(thread)\n",
        "      print(i2)\n",
        "      sleep_seconds = 1\n",
        "      time.sleep(sleep_seconds)\n",
        "\n",
        "while(True):\n",
        "  print('\\r', end='')\n",
        "  print(current_num, end='')\n",
        "  sleep_seconds = 2\n",
        "  time.sleep(sleep_seconds)\n",
        "\n",
        "for thread in thread_list:\n",
        "    thread.join()"
      ],
      "execution_count": 0,
      "outputs": [
        {
          "output_type": "stream",
          "text": [
            "30490\n",
            "0\n",
            "1\n",
            "2\n",
            "3\n"
          ],
          "name": "stdout"
        },
        {
          "output_type": "error",
          "ename": "KeyboardInterrupt",
          "evalue": "ignored",
          "traceback": [
            "\u001b[0;31m---------------------------------------------------------------------------\u001b[0m",
            "\u001b[0;31mKeyboardInterrupt\u001b[0m                         Traceback (most recent call last)",
            "\u001b[0;32m<ipython-input-13-3f844498e81a>\u001b[0m in \u001b[0;36m<module>\u001b[0;34m()\u001b[0m\n\u001b[1;32m     57\u001b[0m       \u001b[0mprint\u001b[0m\u001b[0;34m(\u001b[0m\u001b[0mi\u001b[0m\u001b[0;34m)\u001b[0m\u001b[0;34m\u001b[0m\u001b[0;34m\u001b[0m\u001b[0m\n\u001b[1;32m     58\u001b[0m       \u001b[0msleep_seconds\u001b[0m \u001b[0;34m=\u001b[0m \u001b[0;36m1\u001b[0m\u001b[0;34m\u001b[0m\u001b[0;34m\u001b[0m\u001b[0m\n\u001b[0;32m---> 59\u001b[0;31m       \u001b[0mtime\u001b[0m\u001b[0;34m.\u001b[0m\u001b[0msleep\u001b[0m\u001b[0;34m(\u001b[0m\u001b[0msleep_seconds\u001b[0m\u001b[0;34m)\u001b[0m\u001b[0;34m\u001b[0m\u001b[0;34m\u001b[0m\u001b[0m\n\u001b[0m\u001b[1;32m     60\u001b[0m \u001b[0;34m\u001b[0m\u001b[0m\n\u001b[1;32m     61\u001b[0m \u001b[0;32mwith\u001b[0m \u001b[0mtf\u001b[0m\u001b[0;34m.\u001b[0m\u001b[0mdevice\u001b[0m\u001b[0;34m(\u001b[0m\u001b[0;34m'/gpu:0'\u001b[0m\u001b[0;34m)\u001b[0m\u001b[0;34m:\u001b[0m\u001b[0;34m\u001b[0m\u001b[0;34m\u001b[0m\u001b[0m\n",
            "\u001b[0;31mKeyboardInterrupt\u001b[0m: "
          ]
        }
      ]
    },
    {
      "cell_type": "code",
      "metadata": {
        "id": "0sjbN23CbGiA",
        "colab_type": "code",
        "outputId": "c3dafa88-21a8-4e91-a441-fe94b7fdf5db",
        "colab": {
          "base_uri": "https://localhost:8080/",
          "height": 35
        }
      },
      "source": [
        "ii = 1413\n",
        "if (os.path.isfile(\"/content/drive/My Drive/google_notebook/M5_traindata2/train_data2a/train2a_\" + str(ii) + \".csv\") == False):  # ファイルがまだ作成されていない\n",
        "  train_data2a = train_data2a0.copy()\n",
        "  tra_sir = train_data.iloc[ii]\n",
        "  for jj in range(days_num):train_data2a.iloc[jj,0:6] = tra_sir[0:6]\n",
        "  train_data2a.iloc[:,6] = calendar_data.iloc[:,1] #週\n",
        "  train_data2a.iloc[:,7:11] = calendar_data.iloc[:,3:7] #年, 月, 曜日\n",
        "  train_data2a.iloc[:,11:15] = calendar_data2.iloc[:,1:5] #イベント情報\n",
        "  train_data2a.iloc[:,15] = stap(tra_sir[5]) #snap\n",
        "\n",
        "  sap_mindata = sellprices2_data[sellprices2_data.item_id == tra_sir[1]]  # sellpricesの中から必要なデータを抽出\n",
        "  sap_mindata = sap_mindata[sap_mindata.store_id == tra_sir[4]]\n",
        "  sap_mindata = sap_mindata.drop([\"store_id\", \"item_id\"], axis=1)\n",
        "\n",
        "  train_data2a = pd.merge(train_data2a, sap_mindata, on='wm_yr_wk', how='left') #価格とその変化\n",
        "\n",
        "  train_data2a[\"value\"] = tra_sir[6:].to_list()\n",
        "\n",
        "  train_data2a.to_csv(\n",
        "      \"/content/drive/My Drive/google_notebook/M5_traindata2/train_data2a/train2a_\" + str(ii) + \".csv\", index=False)\n",
        "else: print(\"files exist\")"
      ],
      "execution_count": 0,
      "outputs": [
        {
          "output_type": "stream",
          "text": [
            "files exist\n"
          ],
          "name": "stdout"
        }
      ]
    },
    {
      "cell_type": "code",
      "metadata": {
        "id": "Nzo9kcqhbl3j",
        "colab_type": "code",
        "colab": {}
      },
      "source": [
        "df = pd.read_csv(\"/content/drive/My Drive/google_notebook/M5_traindata2/train_data2a/train2a_\" + str(1413) + \".csv\")"
      ],
      "execution_count": 0,
      "outputs": []
    },
    {
      "cell_type": "code",
      "metadata": {
        "id": "vrrd_oy9b-_o",
        "colab_type": "code",
        "colab": {}
      },
      "source": [
        "os.remove(\"/content/drive/My Drive/google_notebook/M5_traindata2/train_data2a/train2a_\" + str(1413) + \".csv\")"
      ],
      "execution_count": 0,
      "outputs": []
    },
    {
      "cell_type": "code",
      "metadata": {
        "id": "mBiucJR6EBH2",
        "colab_type": "code",
        "colab": {}
      },
      "source": [
        "main_data = pd.read_csv(\"/content/drive/My Drive/google_notebook/M5_traindata2/train_data2a/train2a_0.csv\")\n",
        "main_data.to_csv(\"/content/drive/My Drive/google_notebook/M5_traindata2/train_data2a/train2a_kari.csv\", index=False)\n",
        "with open(\"/content/drive/My Drive/google_notebook/M5_traindata2/train_data2a/train2a_syukeityu.txt\", mode='w') as f:\n",
        "    f.write(str(1))"
      ],
      "execution_count": 0,
      "outputs": []
    },
    {
      "cell_type": "code",
      "metadata": {
        "id": "pe98eyObyB9a",
        "colab_type": "code",
        "outputId": "65fe82a1-e1f8-413a-d17a-7c8f5feb428e",
        "colab": {
          "base_uri": "https://localhost:8080/",
          "height": 35
        }
      },
      "source": [
        "main_data = pd.read_csv(\"/content/drive/My Drive/google_notebook/M5_traindata2/train_data2a/train2a_kari.csv\")\n",
        "with open(\"/content/drive/My Drive/google_notebook/M5_traindata2/train_data2a/train2a_syukeityu.txt\") as f:\n",
        "    ii = int(f.read())\n",
        "max_ii = 30490\n",
        "error_flag = False\n",
        "\n",
        "while True:\n",
        "  try:\n",
        "    df = pd.read_csv(\"/content/drive/My Drive/google_notebook/M5_traindata2/train_data2a/train2a_\" + str(ii) + \".csv\")\n",
        "  except:\n",
        "    print(str(ii)+ \"doesn't exist\")\n",
        "    error_flag = True\n",
        "  else:\n",
        "    main_data = pd.concat([main_data, df])\n",
        "    print('\\r', end='')\n",
        "    print(ii, end='')\n",
        "    if (ii%100 == 0):\n",
        "      if (error_flag == True): sys.exit(1)\n",
        "      with open(\"/content/drive/My Drive/google_notebook/M5_traindata2/train_data2a/train2a_syukeityu.txt\", mode='w') as f:\n",
        "        f.write(str(ii))\n",
        "      main_data.to_csv(\"/content/drive/My Drive/google_notebook/M5_traindata2/train_data2a/train2a_kari.csv\", index=False)\n",
        "  finally:\n",
        "    ii += 1\n",
        "    \n",
        "  \n",
        "\n",
        "main_data.to_csv(\"/content/drive/My Drive/google_notebook/M5_traindata2/train_data2a/train2a_all.csv\", index=False)"
      ],
      "execution_count": 0,
      "outputs": [
        {
          "output_type": "stream",
          "text": [
            "\r1400"
          ],
          "name": "stdout"
        }
      ]
    },
    {
      "cell_type": "code",
      "metadata": {
        "id": "o97DGva9Y3zd",
        "colab_type": "code",
        "colab": {}
      },
      "source": [
        "with open(\"/content/drive/My Drive/google_notebook/M5_traindata2/train_data2a/train2a_syukeityu.txt\") as f:\n",
        "    ii = int(f.read()) + 1\n",
        "main_data = pd.read_csv(\"/content/drive/My Drive/google_notebook/M5_traindata2/train_data2a/train2a_\" + str(ii) + \".csv\")\n",
        "main_data.to_csv(\"/content/drive/My Drive/google_notebook/M5_traindata2/train_data2a/train2a_kari2.csv\", index=False)\n",
        "with open(\"/content/drive/My Drive/google_notebook/M5_traindata2/train_data2a/train2a_syukeityu2.txt\", mode='w') as f:\n",
        "    f.write(str(ii))"
      ],
      "execution_count": 0,
      "outputs": []
    },
    {
      "cell_type": "code",
      "metadata": {
        "id": "9GEPcZzFZcM8",
        "colab_type": "code",
        "outputId": "d1f524be-4ce3-4ce8-a293-e8d2979eaffc",
        "colab": {
          "base_uri": "https://localhost:8080/",
          "height": 35
        }
      },
      "source": [
        "main_data = pd.read_csv(\"/content/drive/My Drive/google_notebook/M5_traindata2/train_data2a/train2a_kari2.csv\")\n",
        "with open(\"/content/drive/My Drive/google_notebook/M5_traindata2/train_data2a/train2a_syukeityu2.txt\") as f:\n",
        "    ii = int(f.read())\n",
        "max_ii = 30490\n",
        "error_flag = False\n",
        "\n",
        "while True:\n",
        "  try:\n",
        "    df = pd.read_csv(\"/content/drive/My Drive/google_notebook/M5_traindata2/train_data2a/train2a_\" + str(ii) + \".csv\")\n",
        "  except:\n",
        "    print(str(ii)+ \"doesn't exist\")\n",
        "    error_flag = True\n",
        "  else:\n",
        "    main_data = pd.concat([main_data, df])\n",
        "    print('\\r', end='')\n",
        "    print(ii, end='')\n",
        "    if (ii%100 == 0):\n",
        "      if (error_flag == True): sys.exit(1)\n",
        "      with open(\"/content/drive/My Drive/google_notebook/M5_traindata2/train_data2a/train2a_syukeityu2.txt\", mode='w') as f:\n",
        "        f.write(str(ii))\n",
        "      main_data.to_csv(\"/content/drive/My Drive/google_notebook/M5_traindata2/train_data2a/train2a_kari2.csv\", index=False)\n",
        "  finally:\n",
        "    ii += 1\n",
        "    \n",
        "  \n",
        "\n",
        "main_data.to_csv(\"/content/drive/My Drive/google_notebook/M5_traindata2/train_data2a/train2a_all.csv\", index=False)"
      ],
      "execution_count": 0,
      "outputs": [
        {
          "output_type": "stream",
          "text": [
            "22486"
          ],
          "name": "stdout"
        }
      ]
    },
    {
      "cell_type": "code",
      "metadata": {
        "id": "1R0pt_PuvNJI",
        "colab_type": "code",
        "colab": {}
      },
      "source": [
        "with open(\"/content/drive/My Drive/google_notebook/M5_traindata2/train_data2a/train2a_syukeityu2.txt\") as f:\n",
        "    ii = int(f.read()) + 1\n",
        "main_data = pd.read_csv(\"/content/drive/My Drive/google_notebook/M5_traindata2/train_data2a/train2a_\" + str(ii) + \".csv\")\n",
        "main_data.to_csv(\"/content/drive/My Drive/google_notebook/M5_traindata2/train_data2a/train2a_kari3.csv\", index=False)\n",
        "with open(\"/content/drive/My Drive/google_notebook/M5_traindata2/train_data2a/train2a_syukeityu3.txt\", mode='w') as f:\n",
        "    f.write(str(ii))"
      ],
      "execution_count": 0,
      "outputs": []
    },
    {
      "cell_type": "code",
      "metadata": {
        "id": "SbFArXHTvR31",
        "colab_type": "code",
        "colab": {}
      },
      "source": [
        "main_data = pd.read_csv(\"/content/drive/My Drive/google_notebook/M5_traindata2/train_data2a/train2a_kari3.csv\")\n",
        "with open(\"/content/drive/My Drive/google_notebook/M5_traindata2/train_data2a/train2a_syukeityu3.txt\") as f:\n",
        "    ii = int(f.read())\n",
        "max_ii = 30490\n",
        "error_flag = False\n",
        "\n",
        "while True:\n",
        "  try:\n",
        "    df = pd.read_csv(\"/content/drive/My Drive/google_notebook/M5_traindata2/train_data2a/train2a_\" + str(ii) + \".csv\")\n",
        "  except:\n",
        "    print(str(ii)+ \"doesn't exist\")\n",
        "    error_flag = True\n",
        "  else:\n",
        "    main_data = pd.concat([main_data, df])\n",
        "    print('\\r', end='')\n",
        "    print(ii, end='')\n",
        "    if (ii%100 == 0):\n",
        "      if (error_flag == True): sys.exit(1)\n",
        "      with open(\"/content/drive/My Drive/google_notebook/M5_traindata2/train_data2a/train2a_syukeityu3.txt\", mode='w') as f:\n",
        "        f.write(str(ii))\n",
        "      main_data.to_csv(\"/content/drive/My Drive/google_notebook/M5_traindata2/train_data2a/train2a_kari3.csv\", index=False)\n",
        "  finally:\n",
        "    ii += 1\n",
        "    \n",
        "  \n",
        "\n",
        "main_data.to_csv(\"/content/drive/My Drive/google_notebook/M5_traindata2/train_data2a/train2a_kari3.csv\", index=False)"
      ],
      "execution_count": 0,
      "outputs": []
    },
    {
      "cell_type": "code",
      "metadata": {
        "id": "PYYpyDP0GwNN",
        "colab_type": "code",
        "colab": {}
      },
      "source": [
        "mda1 = pd.read_csv(\"/content/drive/My Drive/google_notebook/M5_traindata2/train_data2a/train2a_kari.csv\")\n",
        "mda2 = pd.read_csv(\"/content/drive/My Drive/google_notebook/M5_traindata2/train_data2a/train2a_kari2.csv\")\n",
        "mda3 = pd.read_csv(\"/content/drive/My Drive/google_notebook/M5_traindata2/train_data2a/train2a_kari3.csv\")\n",
        "\n",
        "main_data = pd.concat([mda1, mda2, mda3])\n",
        "main_data.to_csv(\"/content/drive/My Drive/google_notebook/M5_traindata2/train2a_all.csv\", index=False)"
      ],
      "execution_count": 0,
      "outputs": []
    },
    {
      "cell_type": "code",
      "metadata": {
        "id": "S1VzxuUf6naP",
        "colab_type": "code",
        "colab": {}
      },
      "source": [
        "import gc\n",
        "mda = pd.read_csv(\"/content/drive/My Drive/google_notebook/M5_traindata2/train2a_all.csv\")\n",
        "\n",
        "def d_del(x):\n",
        "  return x[2:]\n",
        "\n",
        "mda['d'] = mda['d'].map(d_del)\n",
        "mda.to_csv(\"/content/drive/My Drive/google_notebook/M5_traindata2/train2a_all.csv\", index=False)"
      ],
      "execution_count": 0,
      "outputs": []
    },
    {
      "cell_type": "code",
      "metadata": {
        "id": "c2URTbwFne1y",
        "colab_type": "code",
        "colab": {
          "base_uri": "https://localhost:8080/",
          "height": 35
        },
        "outputId": "8e71ce8f-08f6-4c29-c3cd-5d9c6955e787"
      },
      "source": [
        "import gc\n",
        "mda = pd.read_csv(\"/content/drive/My Drive/google_notebook/M5_traindata2/train2a_all.csv\")\n",
        "\n",
        "x1_data_CA = mda[mda['state_id']==\"CA\"]\n",
        "x1_data_TX = mda[mda['state_id']==\"TX\"]\n",
        "x1_data_WI = mda[mda['state_id']==\"WI\"]\n",
        "\n",
        "x1_data_CA.to_csv(\"/content/drive/My Drive/google_notebook/M5_traindata2/train_data2a/x1_data_CA.csv\", index=False)\n",
        "x1_data_TX.to_csv(\"/content/drive/My Drive/google_notebook/M5_traindata2/train_data2a/x1_data_TX.csv\", index=False)\n",
        "x1_data_WI.to_csv(\"/content/drive/My Drive/google_notebook/M5_traindata2/train_data2a/x1_data_WI.csv\", index=False)\n",
        "\n",
        "del x1_data_CA, x1_data_TX, x1_data_WI\n",
        "gc.collect()\n",
        "\n",
        "x2_data_CA_1 = mda[mda['store_id']==\"CA_1\"]\n",
        "x2_data_CA_2 = mda[mda['store_id']==\"CA_2\"]\n",
        "x2_data_CA_3 = mda[mda['store_id']==\"CA_3\"]\n",
        "x2_data_TX_1 = mda[mda['store_id']==\"TX_1\"]\n",
        "x2_data_TX_2 = mda[mda['store_id']==\"TX_2\"]\n",
        "x2_data_TX_3 = mda[mda['store_id']==\"TX_3\"]\n",
        "x2_data_WI_1 = mda[mda['store_id']==\"WI_1\"]\n",
        "x2_data_WI_2 = mda[mda['store_id']==\"WI_2\"]\n",
        "x2_data_WI_3 = mda[mda['store_id']==\"WI_3\"]\n",
        "\n",
        "x2_data_CA_1.to_csv(\"/content/drive/My Drive/google_notebook/M5_traindata2/train_data2a/x2_data_CA_1.csv\", index=False)\n",
        "x2_data_CA_2.to_csv(\"/content/drive/My Drive/google_notebook/M5_traindata2/train_data2a/x2_data_CA_2.csv\", index=False)\n",
        "x2_data_CA_3.to_csv(\"/content/drive/My Drive/google_notebook/M5_traindata2/train_data2a/x2_data_CA_3.csv\", index=False)\n",
        "x2_data_TX_1.to_csv(\"/content/drive/My Drive/google_notebook/M5_traindata2/train_data2a/x2_data_TX_1.csv\", index=False)\n",
        "x2_data_TX_2.to_csv(\"/content/drive/My Drive/google_notebook/M5_traindata2/train_data2a/x2_data_TX_2.csv\", index=False)\n",
        "x2_data_TX_3.to_csv(\"/content/drive/My Drive/google_notebook/M5_traindata2/train_data2a/x2_data_TX_3.csv\", index=False)\n",
        "x2_data_WI_1.to_csv(\"/content/drive/My Drive/google_notebook/M5_traindata2/train_data2a/x2_data_WI_1.csv\", index=False)\n",
        "x2_data_WI_2.to_csv(\"/content/drive/My Drive/google_notebook/M5_traindata2/train_data2a/x2_data_WI_2.csv\", index=False)\n",
        "x2_data_WI_3.to_csv(\"/content/drive/My Drive/google_notebook/M5_traindata2/train_data2a/x2_data_WI_3.csv\", index=False)\n",
        "\n",
        "del x2_data_CA_1 ,x2_data_CA_2 ,x2_data_CA_3 ,x2_data_TX_1 ,x2_data_TX_2 ,x2_data_TX_3 ,x2_data_WI_1 ,x2_data_WI_2 ,x2_data_WI_3\n",
        "gc.collect()\n",
        "\n",
        "x3_data_FOODS = mda[mda['cat_id']==\"FOODS\"]\n",
        "x3_data_HOUSEHOLD = mda[mda['cat_id']==\"HOUSEHOLD\"]\n",
        "x3_data_HOBBIES = mda[mda['cat_id']==\"HOBBIES\"]\n",
        "\n",
        "x3_data_FOODS.to_csv(\"/content/drive/My Drive/google_notebook/M5_traindata2/train_data2a/x3_data_FOODS.csv\", index=False)\n",
        "x3_data_HOUSEHOLD.to_csv(\"/content/drive/My Drive/google_notebook/M5_traindata2/train_data2a/x3_data_HOUSEHOLD.csv\", index=False)\n",
        "x3_data_HOBBIES.to_csv(\"/content/drive/My Drive/google_notebook/M5_traindata2/train_data2a/x3_data_HOBBIES.csv\", index=False)\n",
        "\n",
        "del x3_data_FOODS ,x3_data_HOUSEHOLD, x3_data_HOBBIES\n",
        "gc.collect()\n",
        "\n",
        "x4_data_FOODS_1 = mda[mda['dept_id']==\"FOODS_1\"]\n",
        "x4_data_FOODS_2 = mda[mda['dept_id']==\"FOODS_2\"]\n",
        "x4_data_FOODS_3 = mda[mda['dept_id']==\"FOODS_3\"]\n",
        "x4_data_HOUSEHOLD_1 = mda[mda['dept_id']==\"HOUSEHOLD_1\"]\n",
        "x4_data_HOUSEHOLD_2 = mda[mda['dept_id']==\"HOUSEHOLD_2\"]\n",
        "x4_data_HOBBIES_1 = mda[mda['dept_id']==\"HOBBIES_1\"]\n",
        "x4_data_HOBBIES_2 = mda[mda['dept_id']==\"HOBBIES_2\"]\n",
        "\n",
        "x4_data_FOODS_1.to_csv(\"/content/drive/My Drive/google_notebook/M5_traindata2/train_data2a/x4_data_FOODS1.csv\", index=False)\n",
        "x4_data_FOODS_2.to_csv(\"/content/drive/My Drive/google_notebook/M5_traindata2/train_data2a/x4_data_FOODS2.csv\", index=False)\n",
        "x4_data_FOODS_3.to_csv(\"/content/drive/My Drive/google_notebook/M5_traindata2/train_data2a/x4_data_FOODS3.csv\", index=False)\n",
        "x4_data_HOUSEHOLD_1.to_csv(\"/content/drive/My Drive/google_notebook/M5_traindata2/train_data2a/x4_data_HOUSEHOLD1.csv\", index=False)\n",
        "x4_data_HOUSEHOLD_2.to_csv(\"/content/drive/My Drive/google_notebook/M5_traindata2/train_data2a/x4_data_HOUSEHOLD2.csv\", index=False)\n",
        "x4_data_HOBBIES_1.to_csv(\"/content/drive/My Drive/google_notebook/M5_traindata2/train_data2a/x4_data_HOBBIES1.csv\", index=False)\n",
        "x4_data_HOBBIES_2.to_csv(\"/content/drive/My Drive/google_notebook/M5_traindata2/train_data2a/x4_data_HOBBIES2.csv\", index=False)\n",
        "\n",
        "del x4_data_FOODS_1 ,x4_data_FOODS_2 ,x4_data_FOODS_3, x4_data_HOUSEHOLD_1 ,x4_data_HOUSEHOLD_2 ,x4_data_HOBBIES_1, x4_data_HOBBIES_2\n",
        "gc.collect()"
      ],
      "execution_count": 2,
      "outputs": [
        {
          "output_type": "execute_result",
          "data": {
            "text/plain": [
              "0"
            ]
          },
          "metadata": {
            "tags": []
          },
          "execution_count": 2
        }
      ]
    },
    {
      "cell_type": "markdown",
      "metadata": {
        "id": "sHFvXj144O7k",
        "colab_type": "text"
      },
      "source": [
        "各種データを学習"
      ]
    },
    {
      "cell_type": "code",
      "metadata": {
        "id": "bWT_nxemF1aH",
        "colab_type": "code",
        "colab": {
          "base_uri": "https://localhost:8080/",
          "height": 487
        },
        "outputId": "46975dd2-3bcb-4e34-968d-1108fb9d67bd"
      },
      "source": [
        "import pickle\n",
        "import lightgbm as lgb\n",
        "import gc\n",
        "x_list = [\"x1_data_CA\",\"x1_data_TX\",\"x1_data_WI\",\"x2_data_CA_1\",\"x2_data_CA_2\",\"x2_data_CA_3\",\"x2_data_TX_1\",\"x2_data_TX_2\",\"x2_data_TX_3\",\"x2_data_WI_1\",\"x2_data_WI_2\",\"x2_data_WI_3\",\"x3_data_FOODS\",\"x3_data_HOUSEHOLD\",\"x3_data_HOBBIES\",\"x4_data_FOODS_1\",\"x4_data_FOODS_2\",\"x4_data_FOODS_3\",\"x4_data_HOUSEHOLD_1\",\"x4_data_HOUSEHOLD_2\",\"x4_data_HOBBIES_1\",\"x4_data_HOBBIES_2\"]\n",
        "in_cols = [\"id\",\"item_id\",\"dept_id\",\"cat_id\",\"store_id\",\"state_id\",\"wm_yr_wk\",\"wday\",\"month\",\"year\",\"d\",\"Religious\",\"National\",\"Cultural\",\"Sporting\",\"snap\",\"sell_price\",\"price_down\",\"price_up\"]\n",
        "\n",
        "for tt in x_list:\n",
        "  mdax = pd.read_csv(\"/content/drive/My Drive/google_notebook/M5_traindata2/train_data2a/\" + tt + \".csv\")\n",
        "  train_input = mda[in_cols]\n",
        "  train_result = mda[\"value\"]\n",
        "\n",
        "  clf = lgb.LGBMClassifier()\n",
        "  clf.fit(train_input, train_result)\n",
        "\n",
        "  file = 'trained_model_' + tt + '.pkl'\n",
        "  pickle.dump(clf, open(file, 'wb'))\n",
        "\n",
        "  del clf\n",
        "  gc.collect()"
      ],
      "execution_count": 6,
      "outputs": [
        {
          "output_type": "error",
          "ename": "FileNotFoundError",
          "evalue": "ignored",
          "traceback": [
            "\u001b[0;31m---------------------------------------------------------------------------\u001b[0m",
            "\u001b[0;31mFileNotFoundError\u001b[0m                         Traceback (most recent call last)",
            "\u001b[0;32m<ipython-input-6-3567194b07a2>\u001b[0m in \u001b[0;36m<module>\u001b[0;34m()\u001b[0m\n\u001b[1;32m      6\u001b[0m \u001b[0;34m\u001b[0m\u001b[0m\n\u001b[1;32m      7\u001b[0m \u001b[0;32mfor\u001b[0m \u001b[0mtt\u001b[0m \u001b[0;32min\u001b[0m \u001b[0mx_list\u001b[0m\u001b[0;34m:\u001b[0m\u001b[0;34m\u001b[0m\u001b[0;34m\u001b[0m\u001b[0m\n\u001b[0;32m----> 8\u001b[0;31m   \u001b[0mmdax\u001b[0m \u001b[0;34m=\u001b[0m \u001b[0mpd\u001b[0m\u001b[0;34m.\u001b[0m\u001b[0mread_csv\u001b[0m\u001b[0;34m(\u001b[0m\u001b[0;34m\"/content/drive/My Drive/google_notebook/M5_traindata2/\"\u001b[0m \u001b[0;34m+\u001b[0m \u001b[0mtt\u001b[0m \u001b[0;34m+\u001b[0m \u001b[0;34m\".csv\"\u001b[0m\u001b[0;34m)\u001b[0m\u001b[0;34m\u001b[0m\u001b[0;34m\u001b[0m\u001b[0m\n\u001b[0m\u001b[1;32m      9\u001b[0m   \u001b[0mtrain_input\u001b[0m \u001b[0;34m=\u001b[0m \u001b[0mmda\u001b[0m\u001b[0;34m[\u001b[0m\u001b[0min_cols\u001b[0m\u001b[0;34m]\u001b[0m\u001b[0;34m\u001b[0m\u001b[0;34m\u001b[0m\u001b[0m\n\u001b[1;32m     10\u001b[0m   \u001b[0mtrain_result\u001b[0m \u001b[0;34m=\u001b[0m \u001b[0mmda\u001b[0m\u001b[0;34m[\u001b[0m\u001b[0;34m\"value\"\u001b[0m\u001b[0;34m]\u001b[0m\u001b[0;34m\u001b[0m\u001b[0;34m\u001b[0m\u001b[0m\n",
            "\u001b[0;32m/usr/local/lib/python3.6/dist-packages/pandas/io/parsers.py\u001b[0m in \u001b[0;36mparser_f\u001b[0;34m(filepath_or_buffer, sep, delimiter, header, names, index_col, usecols, squeeze, prefix, mangle_dupe_cols, dtype, engine, converters, true_values, false_values, skipinitialspace, skiprows, skipfooter, nrows, na_values, keep_default_na, na_filter, verbose, skip_blank_lines, parse_dates, infer_datetime_format, keep_date_col, date_parser, dayfirst, cache_dates, iterator, chunksize, compression, thousands, decimal, lineterminator, quotechar, quoting, doublequote, escapechar, comment, encoding, dialect, error_bad_lines, warn_bad_lines, delim_whitespace, low_memory, memory_map, float_precision)\u001b[0m\n\u001b[1;32m    674\u001b[0m         )\n\u001b[1;32m    675\u001b[0m \u001b[0;34m\u001b[0m\u001b[0m\n\u001b[0;32m--> 676\u001b[0;31m         \u001b[0;32mreturn\u001b[0m \u001b[0m_read\u001b[0m\u001b[0;34m(\u001b[0m\u001b[0mfilepath_or_buffer\u001b[0m\u001b[0;34m,\u001b[0m \u001b[0mkwds\u001b[0m\u001b[0;34m)\u001b[0m\u001b[0;34m\u001b[0m\u001b[0;34m\u001b[0m\u001b[0m\n\u001b[0m\u001b[1;32m    677\u001b[0m \u001b[0;34m\u001b[0m\u001b[0m\n\u001b[1;32m    678\u001b[0m     \u001b[0mparser_f\u001b[0m\u001b[0;34m.\u001b[0m\u001b[0m__name__\u001b[0m \u001b[0;34m=\u001b[0m \u001b[0mname\u001b[0m\u001b[0;34m\u001b[0m\u001b[0;34m\u001b[0m\u001b[0m\n",
            "\u001b[0;32m/usr/local/lib/python3.6/dist-packages/pandas/io/parsers.py\u001b[0m in \u001b[0;36m_read\u001b[0;34m(filepath_or_buffer, kwds)\u001b[0m\n\u001b[1;32m    446\u001b[0m \u001b[0;34m\u001b[0m\u001b[0m\n\u001b[1;32m    447\u001b[0m     \u001b[0;31m# Create the parser.\u001b[0m\u001b[0;34m\u001b[0m\u001b[0;34m\u001b[0m\u001b[0;34m\u001b[0m\u001b[0m\n\u001b[0;32m--> 448\u001b[0;31m     \u001b[0mparser\u001b[0m \u001b[0;34m=\u001b[0m \u001b[0mTextFileReader\u001b[0m\u001b[0;34m(\u001b[0m\u001b[0mfp_or_buf\u001b[0m\u001b[0;34m,\u001b[0m \u001b[0;34m**\u001b[0m\u001b[0mkwds\u001b[0m\u001b[0;34m)\u001b[0m\u001b[0;34m\u001b[0m\u001b[0;34m\u001b[0m\u001b[0m\n\u001b[0m\u001b[1;32m    449\u001b[0m \u001b[0;34m\u001b[0m\u001b[0m\n\u001b[1;32m    450\u001b[0m     \u001b[0;32mif\u001b[0m \u001b[0mchunksize\u001b[0m \u001b[0;32mor\u001b[0m \u001b[0miterator\u001b[0m\u001b[0;34m:\u001b[0m\u001b[0;34m\u001b[0m\u001b[0;34m\u001b[0m\u001b[0m\n",
            "\u001b[0;32m/usr/local/lib/python3.6/dist-packages/pandas/io/parsers.py\u001b[0m in \u001b[0;36m__init__\u001b[0;34m(self, f, engine, **kwds)\u001b[0m\n\u001b[1;32m    878\u001b[0m             \u001b[0mself\u001b[0m\u001b[0;34m.\u001b[0m\u001b[0moptions\u001b[0m\u001b[0;34m[\u001b[0m\u001b[0;34m\"has_index_names\"\u001b[0m\u001b[0;34m]\u001b[0m \u001b[0;34m=\u001b[0m \u001b[0mkwds\u001b[0m\u001b[0;34m[\u001b[0m\u001b[0;34m\"has_index_names\"\u001b[0m\u001b[0;34m]\u001b[0m\u001b[0;34m\u001b[0m\u001b[0;34m\u001b[0m\u001b[0m\n\u001b[1;32m    879\u001b[0m \u001b[0;34m\u001b[0m\u001b[0m\n\u001b[0;32m--> 880\u001b[0;31m         \u001b[0mself\u001b[0m\u001b[0;34m.\u001b[0m\u001b[0m_make_engine\u001b[0m\u001b[0;34m(\u001b[0m\u001b[0mself\u001b[0m\u001b[0;34m.\u001b[0m\u001b[0mengine\u001b[0m\u001b[0;34m)\u001b[0m\u001b[0;34m\u001b[0m\u001b[0;34m\u001b[0m\u001b[0m\n\u001b[0m\u001b[1;32m    881\u001b[0m \u001b[0;34m\u001b[0m\u001b[0m\n\u001b[1;32m    882\u001b[0m     \u001b[0;32mdef\u001b[0m \u001b[0mclose\u001b[0m\u001b[0;34m(\u001b[0m\u001b[0mself\u001b[0m\u001b[0;34m)\u001b[0m\u001b[0;34m:\u001b[0m\u001b[0;34m\u001b[0m\u001b[0;34m\u001b[0m\u001b[0m\n",
            "\u001b[0;32m/usr/local/lib/python3.6/dist-packages/pandas/io/parsers.py\u001b[0m in \u001b[0;36m_make_engine\u001b[0;34m(self, engine)\u001b[0m\n\u001b[1;32m   1112\u001b[0m     \u001b[0;32mdef\u001b[0m \u001b[0m_make_engine\u001b[0m\u001b[0;34m(\u001b[0m\u001b[0mself\u001b[0m\u001b[0;34m,\u001b[0m \u001b[0mengine\u001b[0m\u001b[0;34m=\u001b[0m\u001b[0;34m\"c\"\u001b[0m\u001b[0;34m)\u001b[0m\u001b[0;34m:\u001b[0m\u001b[0;34m\u001b[0m\u001b[0;34m\u001b[0m\u001b[0m\n\u001b[1;32m   1113\u001b[0m         \u001b[0;32mif\u001b[0m \u001b[0mengine\u001b[0m \u001b[0;34m==\u001b[0m \u001b[0;34m\"c\"\u001b[0m\u001b[0;34m:\u001b[0m\u001b[0;34m\u001b[0m\u001b[0;34m\u001b[0m\u001b[0m\n\u001b[0;32m-> 1114\u001b[0;31m             \u001b[0mself\u001b[0m\u001b[0;34m.\u001b[0m\u001b[0m_engine\u001b[0m \u001b[0;34m=\u001b[0m \u001b[0mCParserWrapper\u001b[0m\u001b[0;34m(\u001b[0m\u001b[0mself\u001b[0m\u001b[0;34m.\u001b[0m\u001b[0mf\u001b[0m\u001b[0;34m,\u001b[0m \u001b[0;34m**\u001b[0m\u001b[0mself\u001b[0m\u001b[0;34m.\u001b[0m\u001b[0moptions\u001b[0m\u001b[0;34m)\u001b[0m\u001b[0;34m\u001b[0m\u001b[0;34m\u001b[0m\u001b[0m\n\u001b[0m\u001b[1;32m   1115\u001b[0m         \u001b[0;32melse\u001b[0m\u001b[0;34m:\u001b[0m\u001b[0;34m\u001b[0m\u001b[0;34m\u001b[0m\u001b[0m\n\u001b[1;32m   1116\u001b[0m             \u001b[0;32mif\u001b[0m \u001b[0mengine\u001b[0m \u001b[0;34m==\u001b[0m \u001b[0;34m\"python\"\u001b[0m\u001b[0;34m:\u001b[0m\u001b[0;34m\u001b[0m\u001b[0;34m\u001b[0m\u001b[0m\n",
            "\u001b[0;32m/usr/local/lib/python3.6/dist-packages/pandas/io/parsers.py\u001b[0m in \u001b[0;36m__init__\u001b[0;34m(self, src, **kwds)\u001b[0m\n\u001b[1;32m   1889\u001b[0m         \u001b[0mkwds\u001b[0m\u001b[0;34m[\u001b[0m\u001b[0;34m\"usecols\"\u001b[0m\u001b[0;34m]\u001b[0m \u001b[0;34m=\u001b[0m \u001b[0mself\u001b[0m\u001b[0;34m.\u001b[0m\u001b[0musecols\u001b[0m\u001b[0;34m\u001b[0m\u001b[0;34m\u001b[0m\u001b[0m\n\u001b[1;32m   1890\u001b[0m \u001b[0;34m\u001b[0m\u001b[0m\n\u001b[0;32m-> 1891\u001b[0;31m         \u001b[0mself\u001b[0m\u001b[0;34m.\u001b[0m\u001b[0m_reader\u001b[0m \u001b[0;34m=\u001b[0m \u001b[0mparsers\u001b[0m\u001b[0;34m.\u001b[0m\u001b[0mTextReader\u001b[0m\u001b[0;34m(\u001b[0m\u001b[0msrc\u001b[0m\u001b[0;34m,\u001b[0m \u001b[0;34m**\u001b[0m\u001b[0mkwds\u001b[0m\u001b[0;34m)\u001b[0m\u001b[0;34m\u001b[0m\u001b[0;34m\u001b[0m\u001b[0m\n\u001b[0m\u001b[1;32m   1892\u001b[0m         \u001b[0mself\u001b[0m\u001b[0;34m.\u001b[0m\u001b[0munnamed_cols\u001b[0m \u001b[0;34m=\u001b[0m \u001b[0mself\u001b[0m\u001b[0;34m.\u001b[0m\u001b[0m_reader\u001b[0m\u001b[0;34m.\u001b[0m\u001b[0munnamed_cols\u001b[0m\u001b[0;34m\u001b[0m\u001b[0;34m\u001b[0m\u001b[0m\n\u001b[1;32m   1893\u001b[0m \u001b[0;34m\u001b[0m\u001b[0m\n",
            "\u001b[0;32mpandas/_libs/parsers.pyx\u001b[0m in \u001b[0;36mpandas._libs.parsers.TextReader.__cinit__\u001b[0;34m()\u001b[0m\n",
            "\u001b[0;32mpandas/_libs/parsers.pyx\u001b[0m in \u001b[0;36mpandas._libs.parsers.TextReader._setup_parser_source\u001b[0;34m()\u001b[0m\n",
            "\u001b[0;31mFileNotFoundError\u001b[0m: [Errno 2] File /content/drive/My Drive/google_notebook/M5_traindata2/x1_data_CA.csv does not exist: '/content/drive/My Drive/google_notebook/M5_traindata2/x1_data_CA.csv'"
          ]
        }
      ]
    },
    {
      "cell_type": "code",
      "metadata": {
        "id": "MkbPnJek4I9J",
        "colab_type": "code",
        "colab": {}
      },
      "source": [
        "import gc\n",
        "mda = pd.read_csv(\"/content/drive/My Drive/google_notebook/M5_traindata2/train2a_all.csv\")\n",
        "\n",
        "test_data1886_1913 = mda[mda['d'] >= 1886]\n",
        "test_data1886_1913 = test_data1886_1913[test_data1886_1913['d'] <= 1913]\n",
        "test_data1886_1913.to_csv(\"/content/drive/My Drive/google_notebook/M5_traindata2/train_data2a/test_data1886_1913.csv\", index=False)"
      ],
      "execution_count": 0,
      "outputs": []
    }
  ]
}