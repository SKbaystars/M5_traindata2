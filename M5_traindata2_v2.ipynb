{
  "nbformat": 4,
  "nbformat_minor": 0,
  "metadata": {
    "colab": {
      "name": "M5_traindata2.ipynb",
      "provenance": [],
      "machine_shape": "hm"
    },
    "kernelspec": {
      "name": "python3",
      "display_name": "Python 3"
    },
    "accelerator": "TPU"
  },
  "cells": [
    {
      "cell_type": "code",
      "metadata": {
        "id": "i_6GlMDNXbEC",
        "colab_type": "code",
        "outputId": "9d9cd42c-d4eb-41f4-90f3-6025cdddc9a0",
        "colab": {
          "base_uri": "https://localhost:8080/",
          "height": 53
        }
      },
      "source": [
        "%matplotlib inline\n",
        "import matplotlib.pyplot as plt\n",
        "import numpy as np\n",
        "import pandas as pd\n",
        "import copy\n",
        "import io\n",
        "from google.colab import drive\n",
        "import threading\n",
        "import multiprocessing\n",
        "import time\n",
        "import tensorflow as tf\n",
        "drive.mount('/content/drive')\n",
        "import tensorflow as tf\n",
        "import os.path\n",
        "tf.test.gpu_device_name()"
      ],
      "execution_count": 11,
      "outputs": [
        {
          "output_type": "stream",
          "text": [
            "Drive already mounted at /content/drive; to attempt to forcibly remount, call drive.mount(\"/content/drive\", force_remount=True).\n"
          ],
          "name": "stdout"
        },
        {
          "output_type": "execute_result",
          "data": {
            "text/plain": [
              "''"
            ]
          },
          "metadata": {
            "tags": []
          },
          "execution_count": 11
        }
      ]
    },
    {
      "cell_type": "code",
      "metadata": {
        "id": "osuRN9pnFDM3",
        "colab_type": "code",
        "outputId": "d731efdc-a64c-425c-9c34-8c112fa9fe57",
        "colab": {
          "base_uri": "https://localhost:8080/",
          "height": 143
        }
      },
      "source": [
        "import glob\n",
        "glob.glob(\"/content/drive/My Drive/google_notebook/M5_traindata2/*\")"
      ],
      "execution_count": 0,
      "outputs": [
        {
          "output_type": "execute_result",
          "data": {
            "text/plain": [
              "['/content/drive/My Drive/google_notebook/M5_traindata2/calendar2.csv',\n",
              " '/content/drive/My Drive/google_notebook/M5_traindata2/calendar.csv',\n",
              " '/content/drive/My Drive/google_notebook/M5_traindata2/sales_train_validation.csv',\n",
              " '/content/drive/My Drive/google_notebook/M5_traindata2/sample_submission.csv',\n",
              " '/content/drive/My Drive/google_notebook/M5_traindata2/sell_prices.csv',\n",
              " '/content/drive/My Drive/google_notebook/M5_traindata2/sell_prices2.csv',\n",
              " '/content/drive/My Drive/google_notebook/M5_traindata2/train_data2a']"
            ]
          },
          "metadata": {
            "tags": []
          },
          "execution_count": 12
        }
      ]
    },
    {
      "cell_type": "code",
      "metadata": {
        "id": "8Lnabt3iZRF4",
        "colab_type": "code",
        "colab": {}
      },
      "source": [
        "import os.path\n",
        "\n",
        "train_data = pd.read_csv(\"/content/drive/My Drive/google_notebook/M5_traindata2/sales_train_validation.csv\")\n",
        "train_data_b = train_data\n",
        "calendar_data = pd.read_csv(\"/content/drive/My Drive/google_notebook/M5_traindata2/calendar.csv\")\n",
        "sellprices2_data = pd.read_csv(\"/content/drive/My Drive/google_notebook/M5_traindata2/sell_prices2.csv\")\n",
        "calendar_data2 = pd.read_csv(\"/content/drive/My Drive/google_notebook/M5_traindata2/calendar2.csv\")\n",
        "\n",
        "days_num = 1913\n",
        "\n",
        "cols = [\"id\", \"item_id\", \"dept_id\", \"cat_id\", \"store_id\", \"state_id\", \"wm_yr_wk\", \"wday\", \"month\", \"year\", \"d\",\n",
        "        \"Religious\", \"National\", \"Cultural\", \"Sporting\", \"snap\"] #\"price\", \"price_down\", \"price_up\", \"value\"は後程追加\n",
        "train_data2a0 = pd.DataFrame(index=[ij for ij in range(days_num)], columns=cols)\n",
        "\n",
        "start_n = 0\n",
        "\n",
        "thread_num = 4 #スレッド数\n",
        "process_num = 8 #プロセス数\n",
        "\n",
        "current_num = [-1 for jj in range(thread_num + process_num)]  # 実行中のファイル番号(重複処理を防ぐ)\n",
        "\n",
        "def make_tdb(meirei):\n",
        "  exec(meirei)\n",
        "\n",
        "\n",
        "def stap(ST):\n",
        "        return calendar_data2[\"snap_\" + ST]\n",
        "\n",
        "def traindata2_making(th_num, df_name):\n",
        "    for ii in range(start_n, len(train_data_b)):\n",
        "        if ((ii in current_num) == False): #その行は処理されていない\n",
        "            current_num[th_num] = ii\n",
        "            if (os.path.isfile(\"/content/drive/My Drive/google_notebook/M5_traindata2/train_data2a/train2a_\"+ df_name +\"_\" + str(ii) + \".csv\") == False):  # ファイルがまだ作成されていない\n",
        "                train_data2a = train_data2a0.copy()\n",
        "                tra_sir = train_data_b.iloc[ii]\n",
        "                for jj in range(days_num):train_data2a.iloc[jj,0:6] = tra_sir[0:6]\n",
        "                train_data2a.iloc[:,6] = calendar_data.iloc[:,1] #週\n",
        "                train_data2a.iloc[:,7:11] = calendar_data.iloc[:,3:7] #年, 月, 曜日\n",
        "                train_data2a.iloc[:,11:15] = calendar_data2.iloc[:,1:5] #イベント情報\n",
        "                train_data2a.iloc[:,15] = stap(tra_sir[5]) #snap\n",
        "\n",
        "                sap_mindata = sellprices2_data[sellprices2_data.item_id == tra_sir[1]]  # sellpricesの中から必要なデータを抽出\n",
        "                sap_mindata = sap_mindata[sap_mindata.store_id == tra_sir[4]]\n",
        "                sap_mindata = sap_mindata.drop([\"store_id\", \"item_id\"], axis=1)\n",
        "\n",
        "                train_data2a = pd.merge(train_data2a, sap_mindata, on='wm_yr_wk', how='left') #価格とその変化\n",
        "\n",
        "                train_data2a[\"value\"] = tra_sir[6:].to_list()\n",
        "\n",
        "                train_data2a.to_csv(\n",
        "                    \"/content/drive/My Drive/google_notebook/M5_traindata2/train_data2a/train2a_\"+ df_name +\"_\" + str(ii) + \".csv\", index=False)\n",
        "            current_num[th_num] = -1\n",
        "\n",
        "def combine_datas(df_name, meirei):\n",
        "  make_tdb(meirei)\n",
        "  thread_list = []\n",
        "  with tf.device('/cpu:0'):\n",
        "    for i in range(thread_num):\n",
        "        thread = threading.Thread(target=traindata2_making, args=(i,df_name,))\n",
        "        thread.start()\n",
        "        thread_list.append(thread)\n",
        "        print(i)\n",
        "        sleep_seconds = 1\n",
        "        time.sleep(sleep_seconds)\n",
        "\n",
        "  with tf.device('/gpu:0'):\n",
        "    for i2 in range(thread_num, thread_num + process_num):\n",
        "        mp = threading.Thread(target=traindata2_making, args=(i2,df_name,))\n",
        "        mp.start()\n",
        "        thread_list.append(thread)\n",
        "        print(i2)\n",
        "        sleep_seconds = 1\n",
        "        time.sleep(sleep_seconds)\n",
        "\n",
        "  while(True):\n",
        "    print('\\r', end='')\n",
        "    print(current_num, end='')\n",
        "    sleep_seconds = 2\n",
        "    time.sleep(sleep_seconds)\n",
        "\n",
        "  for thread in thread_list:\n",
        "      thread.join()\n",
        "\n",
        "  print(df_name + \"complete\")"
      ],
      "execution_count": 0,
      "outputs": []
    },
    {
      "cell_type": "code",
      "metadata": {
        "id": "0rWX9FfNZPGS",
        "colab_type": "code",
        "colab": {}
      },
      "source": [
        ""
      ],
      "execution_count": 0,
      "outputs": []
    },
    {
      "cell_type": "code",
      "metadata": {
        "id": "tS5LPYnLX0ho",
        "colab_type": "code",
        "colab": {
          "base_uri": "https://localhost:8080/",
          "height": 287
        },
        "outputId": "b3b55eb8-6657-48f8-b0b8-5831e2f2a48f"
      },
      "source": [
        "combine_datas(\"x2_data_CA_1\",\"train_data_b = train_data[train_data[\\\"store_id\\\"] == \\\"CA_1\\\"]\")\n",
        "combine_datas(\"x2_data_CA_2\",\"train_data_b = train_data[train_data[\\\"store_id\\\"] == \\\"CA_2\\\"]\")\n",
        "combine_datas(\"x2_data_CA_3\",\"train_data_b = train_data[train_data[\\\"store_id\\\"] == \\\"CA_3\\\"]\")\n",
        "combine_datas(\"x2_data_TX_1\",\"train_data_b = train_data[train_data[\\\"store_id\\\"] == \\\"TX_1\\\"]\")\n",
        "combine_datas(\"x2_data_TX_2\",\"train_data_b = train_data[train_data[\\\"store_id\\\"] == \\\"TX_2\\\"]\")\n",
        "combine_datas(\"x2_data_TX_3\",\"train_data_b = train_data[train_data[\\\"store_id\\\"] == \\\"TX_3\\\"]\")\n",
        "combine_datas(\"x2_data_WI_1\",\"train_data_b = train_data[train_data[\\\"store_id\\\"] == \\\"WI_1\\\"]\")\n",
        "combine_datas(\"x2_data_WI_2\",\"train_data_b = train_data[train_data[\\\"store_id\\\"] == \\\"WI_2\\\"]\")\n",
        "combine_datas(\"x2_data_WI_3\",\"train_data_b = train_data[train_data[\\\"store_id\\\"] == \\\"WI_3\\\"]\")"
      ],
      "execution_count": 0,
      "outputs": [
        {
          "output_type": "stream",
          "text": [
            "0\n",
            "1\n",
            "2\n",
            "3\n",
            "4\n",
            "5\n",
            "6\n",
            "7\n",
            "8\n",
            "9\n",
            "10\n",
            "11\n",
            "[71, 64, 62, 70, 69, 65, 67, 66, 73, 72, 63, 68]"
          ],
          "name": "stdout"
        },
        {
          "output_type": "stream",
          "text": [
            "ERROR:root:Internal Python error in the inspect module.\n",
            "Below is the traceback from this internal error.\n",
            "\n"
          ],
          "name": "stderr"
        }
      ]
    },
    {
      "cell_type": "code",
      "metadata": {
        "id": "0sjbN23CbGiA",
        "colab_type": "code",
        "outputId": "c3dafa88-21a8-4e91-a441-fe94b7fdf5db",
        "colab": {
          "base_uri": "https://localhost:8080/",
          "height": 35
        }
      },
      "source": [
        "ii = 1413\n",
        "if (os.path.isfile(\"/content/drive/My Drive/google_notebook/M5_traindata2/train_data2a/train2a_\" + str(ii) + \".csv\") == False):  # ファイルがまだ作成されていない\n",
        "  train_data2a = train_data2a0.copy()\n",
        "  tra_sir = train_data.iloc[ii]\n",
        "  for jj in range(days_num):train_data2a.iloc[jj,0:6] = tra_sir[0:6]\n",
        "  train_data2a.iloc[:,6] = calendar_data.iloc[:,1] #週\n",
        "  train_data2a.iloc[:,7:11] = calendar_data.iloc[:,3:7] #年, 月, 曜日\n",
        "  train_data2a.iloc[:,11:15] = calendar_data2.iloc[:,1:5] #イベント情報\n",
        "  train_data2a.iloc[:,15] = stap(tra_sir[5]) #snap\n",
        "\n",
        "  sap_mindata = sellprices2_data[sellprices2_data.item_id == tra_sir[1]]  # sellpricesの中から必要なデータを抽出\n",
        "  sap_mindata = sap_mindata[sap_mindata.store_id == tra_sir[4]]\n",
        "  sap_mindata = sap_mindata.drop([\"store_id\", \"item_id\"], axis=1)\n",
        "\n",
        "  train_data2a = pd.merge(train_data2a, sap_mindata, on='wm_yr_wk', how='left') #価格とその変化\n",
        "\n",
        "  train_data2a[\"value\"] = tra_sir[6:].to_list()\n",
        "\n",
        "  train_data2a.to_csv(\n",
        "      \"/content/drive/My Drive/google_notebook/M5_traindata2/train_data2a/train2a_\" + str(ii) + \".csv\", index=False)\n",
        "else: print(\"files exist\")"
      ],
      "execution_count": 0,
      "outputs": [
        {
          "output_type": "stream",
          "text": [
            "files exist\n"
          ],
          "name": "stdout"
        }
      ]
    },
    {
      "cell_type": "code",
      "metadata": {
        "id": "Nzo9kcqhbl3j",
        "colab_type": "code",
        "colab": {}
      },
      "source": [
        "df = pd.read_csv(\"/content/drive/My Drive/google_notebook/M5_traindata2/train_data2a/train2a_\" + str(1413) + \".csv\")"
      ],
      "execution_count": 0,
      "outputs": []
    },
    {
      "cell_type": "code",
      "metadata": {
        "id": "1R0pt_PuvNJI",
        "colab_type": "code",
        "colab": {}
      },
      "source": [
        "with open(\"/content/drive/My Drive/google_notebook/M5_traindata2/train_data2a/train2a_syukeityu2.txt\") as f:\n",
        "    ii = int(f.read()) + 1\n",
        "main_data = pd.read_csv(\"/content/drive/My Drive/google_notebook/M5_traindata2/train_data2a/train2a_\" + str(ii) + \".csv\")\n",
        "main_data.to_csv(\"/content/drive/My Drive/google_notebook/M5_traindata2/train_data2a/train2a_kari3.csv\", index=False)\n",
        "with open(\"/content/drive/My Drive/google_notebook/M5_traindata2/train_data2a/train2a_syukeityu3.txt\", mode='w') as f:\n",
        "    f.write(str(ii))"
      ],
      "execution_count": 0,
      "outputs": []
    },
    {
      "cell_type": "code",
      "metadata": {
        "id": "SbFArXHTvR31",
        "colab_type": "code",
        "colab": {}
      },
      "source": [
        "main_data = pd.read_csv(\"/content/drive/My Drive/google_notebook/M5_traindata2/train_data2a/train2a_kari3.csv\")\n",
        "with open(\"/content/drive/My Drive/google_notebook/M5_traindata2/train_data2a/train2a_syukeityu3.txt\") as f:\n",
        "    ii = int(f.read())\n",
        "max_ii = 30490\n",
        "error_flag = False\n",
        "\n",
        "while True:\n",
        "  try:\n",
        "    df = pd.read_csv(\"/content/drive/My Drive/google_notebook/M5_traindata2/train_data2a/train2a_\" + str(ii) + \".csv\")\n",
        "  except:\n",
        "    print(str(ii)+ \"doesn't exist\")\n",
        "    error_flag = True\n",
        "  else:\n",
        "    main_data = pd.concat([main_data, df])\n",
        "    print('\\r', end='')\n",
        "    print(ii, end='')\n",
        "    if (ii%100 == 0):\n",
        "      if (error_flag == True): sys.exit(1)\n",
        "      with open(\"/content/drive/My Drive/google_notebook/M5_traindata2/train_data2a/train2a_syukeityu3.txt\", mode='w') as f:\n",
        "        f.write(str(ii))\n",
        "      main_data.to_csv(\"/content/drive/My Drive/google_notebook/M5_traindata2/train_data2a/train2a_kari3.csv\", index=False)\n",
        "  finally:\n",
        "    ii += 1\n",
        "    \n",
        "  \n",
        "\n",
        "main_data.to_csv(\"/content/drive/My Drive/google_notebook/M5_traindata2/train_data2a/train2a_kari3.csv\", index=False)"
      ],
      "execution_count": 0,
      "outputs": []
    },
    {
      "cell_type": "code",
      "metadata": {
        "id": "PYYpyDP0GwNN",
        "colab_type": "code",
        "colab": {}
      },
      "source": [
        "mda1 = pd.read_csv(\"/content/drive/My Drive/google_notebook/M5_traindata2/train_data2a/train2a_kari.csv\")\n",
        "mda2 = pd.read_csv(\"/content/drive/My Drive/google_notebook/M5_traindata2/train_data2a/train2a_kari2.csv\")\n",
        "mda3 = pd.read_csv(\"/content/drive/My Drive/google_notebook/M5_traindata2/train_data2a/train2a_kari3.csv\")\n",
        "\n",
        "main_data = pd.concat([mda1, mda2, mda3])\n",
        "main_data.to_csv(\"/content/drive/My Drive/google_notebook/M5_traindata2/train2a_all.csv\", index=False)"
      ],
      "execution_count": 0,
      "outputs": []
    },
    {
      "cell_type": "code",
      "metadata": {
        "id": "S1VzxuUf6naP",
        "colab_type": "code",
        "colab": {}
      },
      "source": [
        "import gc\n",
        "mda = pd.read_csv(\"/content/drive/My Drive/google_notebook/M5_traindata2/train2a_all.csv\")\n",
        "\n",
        "def d_del(x):\n",
        "  return x[2:]\n",
        "\n",
        "mda['d'] = mda['d'].map(d_del)\n",
        "mda.to_csv(\"/content/drive/My Drive/google_notebook/M5_traindata2/train2a_all.csv\", index=False)"
      ],
      "execution_count": 0,
      "outputs": []
    },
    {
      "cell_type": "code",
      "metadata": {
        "id": "c2URTbwFne1y",
        "colab_type": "code",
        "colab": {
          "base_uri": "https://localhost:8080/",
          "height": 35
        },
        "outputId": "8e71ce8f-08f6-4c29-c3cd-5d9c6955e787"
      },
      "source": [
        "import gc\n",
        "mda = pd.read_csv(\"/content/drive/My Drive/google_notebook/M5_traindata2/train2a_all.csv\")\n",
        "\n",
        "x1_data_CA = mda[mda['state_id']==\"CA\"]\n",
        "x1_data_TX = mda[mda['state_id']==\"TX\"]\n",
        "x1_data_WI = mda[mda['state_id']==\"WI\"]\n",
        "\n",
        "x1_data_CA.to_csv(\"/content/drive/My Drive/google_notebook/M5_traindata2/train_data2a/x1_data_CA.csv\", index=False)\n",
        "x1_data_TX.to_csv(\"/content/drive/My Drive/google_notebook/M5_traindata2/train_data2a/x1_data_TX.csv\", index=False)\n",
        "x1_data_WI.to_csv(\"/content/drive/My Drive/google_notebook/M5_traindata2/train_data2a/x1_data_WI.csv\", index=False)\n",
        "\n",
        "del x1_data_CA, x1_data_TX, x1_data_WI\n",
        "gc.collect()\n",
        "\n",
        "x2_data_CA_1 = mda[mda['store_id']==\"CA_1\"]\n",
        "x2_data_CA_2 = mda[mda['store_id']==\"CA_2\"]\n",
        "x2_data_CA_3 = mda[mda['store_id']==\"CA_3\"]\n",
        "x2_data_TX_1 = mda[mda['store_id']==\"TX_1\"]\n",
        "x2_data_TX_2 = mda[mda['store_id']==\"TX_2\"]\n",
        "x2_data_TX_3 = mda[mda['store_id']==\"TX_3\"]\n",
        "x2_data_WI_1 = mda[mda['store_id']==\"WI_1\"]\n",
        "x2_data_WI_2 = mda[mda['store_id']==\"WI_2\"]\n",
        "x2_data_WI_3 = mda[mda['store_id']==\"WI_3\"]\n",
        "\n",
        "x2_data_CA_1.to_csv(\"/content/drive/My Drive/google_notebook/M5_traindata2/train_data2a/x2_data_CA_1.csv\", index=False)\n",
        "x2_data_CA_2.to_csv(\"/content/drive/My Drive/google_notebook/M5_traindata2/train_data2a/x2_data_CA_2.csv\", index=False)\n",
        "x2_data_CA_3.to_csv(\"/content/drive/My Drive/google_notebook/M5_traindata2/train_data2a/x2_data_CA_3.csv\", index=False)\n",
        "x2_data_TX_1.to_csv(\"/content/drive/My Drive/google_notebook/M5_traindata2/train_data2a/x2_data_TX_1.csv\", index=False)\n",
        "x2_data_TX_2.to_csv(\"/content/drive/My Drive/google_notebook/M5_traindata2/train_data2a/x2_data_TX_2.csv\", index=False)\n",
        "x2_data_TX_3.to_csv(\"/content/drive/My Drive/google_notebook/M5_traindata2/train_data2a/x2_data_TX_3.csv\", index=False)\n",
        "x2_data_WI_1.to_csv(\"/content/drive/My Drive/google_notebook/M5_traindata2/train_data2a/x2_data_WI_1.csv\", index=False)\n",
        "x2_data_WI_2.to_csv(\"/content/drive/My Drive/google_notebook/M5_traindata2/train_data2a/x2_data_WI_2.csv\", index=False)\n",
        "x2_data_WI_3.to_csv(\"/content/drive/My Drive/google_notebook/M5_traindata2/train_data2a/x2_data_WI_3.csv\", index=False)\n",
        "\n",
        "del x2_data_CA_1 ,x2_data_CA_2 ,x2_data_CA_3 ,x2_data_TX_1 ,x2_data_TX_2 ,x2_data_TX_3 ,x2_data_WI_1 ,x2_data_WI_2 ,x2_data_WI_3\n",
        "gc.collect()\n",
        "\n",
        "x3_data_FOODS = mda[mda['cat_id']==\"FOODS\"]\n",
        "x3_data_HOUSEHOLD = mda[mda['cat_id']==\"HOUSEHOLD\"]\n",
        "x3_data_HOBBIES = mda[mda['cat_id']==\"HOBBIES\"]\n",
        "\n",
        "x3_data_FOODS.to_csv(\"/content/drive/My Drive/google_notebook/M5_traindata2/train_data2a/x3_data_FOODS.csv\", index=False)\n",
        "x3_data_HOUSEHOLD.to_csv(\"/content/drive/My Drive/google_notebook/M5_traindata2/train_data2a/x3_data_HOUSEHOLD.csv\", index=False)\n",
        "x3_data_HOBBIES.to_csv(\"/content/drive/My Drive/google_notebook/M5_traindata2/train_data2a/x3_data_HOBBIES.csv\", index=False)\n",
        "\n",
        "del x3_data_FOODS ,x3_data_HOUSEHOLD, x3_data_HOBBIES\n",
        "gc.collect()\n",
        "\n",
        "x4_data_FOODS_1 = mda[mda['dept_id']==\"FOODS_1\"]\n",
        "x4_data_FOODS_2 = mda[mda['dept_id']==\"FOODS_2\"]\n",
        "x4_data_FOODS_3 = mda[mda['dept_id']==\"FOODS_3\"]\n",
        "x4_data_HOUSEHOLD_1 = mda[mda['dept_id']==\"HOUSEHOLD_1\"]\n",
        "x4_data_HOUSEHOLD_2 = mda[mda['dept_id']==\"HOUSEHOLD_2\"]\n",
        "x4_data_HOBBIES_1 = mda[mda['dept_id']==\"HOBBIES_1\"]\n",
        "x4_data_HOBBIES_2 = mda[mda['dept_id']==\"HOBBIES_2\"]\n",
        "\n",
        "x4_data_FOODS_1.to_csv(\"/content/drive/My Drive/google_notebook/M5_traindata2/train_data2a/x4_data_FOODS1.csv\", index=False)\n",
        "x4_data_FOODS_2.to_csv(\"/content/drive/My Drive/google_notebook/M5_traindata2/train_data2a/x4_data_FOODS2.csv\", index=False)\n",
        "x4_data_FOODS_3.to_csv(\"/content/drive/My Drive/google_notebook/M5_traindata2/train_data2a/x4_data_FOODS3.csv\", index=False)\n",
        "x4_data_HOUSEHOLD_1.to_csv(\"/content/drive/My Drive/google_notebook/M5_traindata2/train_data2a/x4_data_HOUSEHOLD1.csv\", index=False)\n",
        "x4_data_HOUSEHOLD_2.to_csv(\"/content/drive/My Drive/google_notebook/M5_traindata2/train_data2a/x4_data_HOUSEHOLD2.csv\", index=False)\n",
        "x4_data_HOBBIES_1.to_csv(\"/content/drive/My Drive/google_notebook/M5_traindata2/train_data2a/x4_data_HOBBIES1.csv\", index=False)\n",
        "x4_data_HOBBIES_2.to_csv(\"/content/drive/My Drive/google_notebook/M5_traindata2/train_data2a/x4_data_HOBBIES2.csv\", index=False)\n",
        "\n",
        "del x4_data_FOODS_1 ,x4_data_FOODS_2 ,x4_data_FOODS_3, x4_data_HOUSEHOLD_1 ,x4_data_HOUSEHOLD_2 ,x4_data_HOBBIES_1, x4_data_HOBBIES_2\n",
        "gc.collect()"
      ],
      "execution_count": 2,
      "outputs": [
        {
          "output_type": "execute_result",
          "data": {
            "text/plain": [
              "0"
            ]
          },
          "metadata": {
            "tags": []
          },
          "execution_count": 2
        }
      ]
    },
    {
      "cell_type": "markdown",
      "metadata": {
        "id": "sHFvXj144O7k",
        "colab_type": "text"
      },
      "source": [
        "各種データを学習"
      ]
    },
    {
      "cell_type": "code",
      "metadata": {
        "id": "bWT_nxemF1aH",
        "colab_type": "code",
        "colab": {
          "base_uri": "https://localhost:8080/",
          "height": 395
        },
        "outputId": "5926b605-1a91-4345-bb27-0f0e21dbc021"
      },
      "source": [
        "import pickle\n",
        "import lightgbm as lgb\n",
        "import gc\n",
        "x_list = [\"x1_data_CA\",\"x1_data_TX\",\"x1_data_WI\",\"x2_data_CA_1\",\"x2_data_CA_2\",\"x2_data_CA_3\",\"x2_data_TX_1\",\"x2_data_TX_2\",\"x2_data_TX_3\",\"x2_data_WI_1\",\"x2_data_WI_2\",\"x2_data_WI_3\",\"x3_data_FOODS\",\"x3_data_HOUSEHOLD\",\"x3_data_HOBBIES\",\"x4_data_FOODS_1\",\"x4_data_FOODS_2\",\"x4_data_FOODS_3\",\"x4_data_HOUSEHOLD_1\",\"x4_data_HOUSEHOLD_2\",\"x4_data_HOBBIES_1\",\"x4_data_HOBBIES_2\"]\n",
        "in_cols = [\"wday\",\"month\",\"year\",\"Religious\",\"National\",\"Cultural\",\"Sporting\",\"snap\",\"sell_price\",\"price_down\",\"price_up\"]\n",
        "categorical_features = [\"wday\",\"month\",\"year\",\"Religious\",\"National\",\"Cultural\",\"Sporting\",\"snap\",\"price_down\",\"price_up\"] #販売価格以外をカテゴリ変数化\n",
        "lgb_params = {\"objective\":\"regression\", \n",
        "              \"metric\":\"rmse\", \n",
        "              \"verbosity\": -1}\n",
        "\n",
        "for tt in x_list:\n",
        "  mdax = pd.read_csv(\"/content/drive/My Drive/google_notebook/M5_traindata2/train_data2a/\" + tt + \".csv\")\n",
        "  train_input = mdax[in_cols]\n",
        "  train_result = mdax[\"value\"]\n",
        "  train_input = train_input.astype('category')\n",
        "\n",
        "  train_datas = lgb.Dataset(train_input, train_result)\n",
        "\n",
        "  clf = lgb.train(lgb_params, train_datas)\n",
        "\n",
        "  file = 'trained_model_' + tt + '.pkl'\n",
        "  pickle.dump(clf, open(file, 'wb'))\n",
        "\n",
        "  del clf\n",
        "  gc.collect()"
      ],
      "execution_count": 3,
      "outputs": [
        {
          "output_type": "error",
          "ename": "ValueError",
          "evalue": "ignored",
          "traceback": [
            "\u001b[0;31m---------------------------------------------------------------------------\u001b[0m",
            "\u001b[0;31mValueError\u001b[0m                                Traceback (most recent call last)",
            "\u001b[0;32m<ipython-input-3-9b931110b69b>\u001b[0m in \u001b[0;36m<module>\u001b[0;34m()\u001b[0m\n\u001b[1;32m     17\u001b[0m   \u001b[0mtrain_datas\u001b[0m \u001b[0;34m=\u001b[0m \u001b[0mlgb\u001b[0m\u001b[0;34m.\u001b[0m\u001b[0mDataset\u001b[0m\u001b[0;34m(\u001b[0m\u001b[0mtrain_input\u001b[0m\u001b[0;34m,\u001b[0m \u001b[0mtrain_result\u001b[0m\u001b[0;34m)\u001b[0m\u001b[0;34m\u001b[0m\u001b[0;34m\u001b[0m\u001b[0m\n\u001b[1;32m     18\u001b[0m \u001b[0;34m\u001b[0m\u001b[0m\n\u001b[0;32m---> 19\u001b[0;31m   \u001b[0mclf\u001b[0m \u001b[0;34m=\u001b[0m \u001b[0mlgb\u001b[0m\u001b[0;34m.\u001b[0m\u001b[0mtrain\u001b[0m\u001b[0;34m(\u001b[0m\u001b[0mlgb_params\u001b[0m\u001b[0;34m,\u001b[0m \u001b[0mtrain_datas\u001b[0m\u001b[0;34m)\u001b[0m\u001b[0;34m\u001b[0m\u001b[0;34m\u001b[0m\u001b[0m\n\u001b[0m\u001b[1;32m     20\u001b[0m \u001b[0;34m\u001b[0m\u001b[0m\n\u001b[1;32m     21\u001b[0m   \u001b[0mfile\u001b[0m \u001b[0;34m=\u001b[0m \u001b[0;34m'trained_model_'\u001b[0m \u001b[0;34m+\u001b[0m \u001b[0mtt\u001b[0m \u001b[0;34m+\u001b[0m \u001b[0;34m'.pkl'\u001b[0m\u001b[0;34m\u001b[0m\u001b[0;34m\u001b[0m\u001b[0m\n",
            "\u001b[0;32m/usr/local/lib/python3.6/dist-packages/lightgbm/engine.py\u001b[0m in \u001b[0;36mtrain\u001b[0;34m(params, train_set, num_boost_round, valid_sets, valid_names, fobj, feval, init_model, feature_name, categorical_feature, early_stopping_rounds, evals_result, verbose_eval, learning_rates, keep_training_booster, callbacks)\u001b[0m\n\u001b[1;32m    195\u001b[0m     \u001b[0;31m# construct booster\u001b[0m\u001b[0;34m\u001b[0m\u001b[0;34m\u001b[0m\u001b[0;34m\u001b[0m\u001b[0m\n\u001b[1;32m    196\u001b[0m     \u001b[0;32mtry\u001b[0m\u001b[0;34m:\u001b[0m\u001b[0;34m\u001b[0m\u001b[0;34m\u001b[0m\u001b[0m\n\u001b[0;32m--> 197\u001b[0;31m         \u001b[0mbooster\u001b[0m \u001b[0;34m=\u001b[0m \u001b[0mBooster\u001b[0m\u001b[0;34m(\u001b[0m\u001b[0mparams\u001b[0m\u001b[0;34m=\u001b[0m\u001b[0mparams\u001b[0m\u001b[0;34m,\u001b[0m \u001b[0mtrain_set\u001b[0m\u001b[0;34m=\u001b[0m\u001b[0mtrain_set\u001b[0m\u001b[0;34m)\u001b[0m\u001b[0;34m\u001b[0m\u001b[0;34m\u001b[0m\u001b[0m\n\u001b[0m\u001b[1;32m    198\u001b[0m         \u001b[0;32mif\u001b[0m \u001b[0mis_valid_contain_train\u001b[0m\u001b[0;34m:\u001b[0m\u001b[0;34m\u001b[0m\u001b[0;34m\u001b[0m\u001b[0m\n\u001b[1;32m    199\u001b[0m             \u001b[0mbooster\u001b[0m\u001b[0;34m.\u001b[0m\u001b[0mset_train_data_name\u001b[0m\u001b[0;34m(\u001b[0m\u001b[0mtrain_data_name\u001b[0m\u001b[0;34m)\u001b[0m\u001b[0;34m\u001b[0m\u001b[0;34m\u001b[0m\u001b[0m\n",
            "\u001b[0;32m/usr/local/lib/python3.6/dist-packages/lightgbm/basic.py\u001b[0m in \u001b[0;36m__init__\u001b[0;34m(self, params, train_set, model_file, silent)\u001b[0m\n\u001b[1;32m   1550\u001b[0m             \u001b[0mself\u001b[0m\u001b[0;34m.\u001b[0m\u001b[0mhandle\u001b[0m \u001b[0;34m=\u001b[0m \u001b[0mctypes\u001b[0m\u001b[0;34m.\u001b[0m\u001b[0mc_void_p\u001b[0m\u001b[0;34m(\u001b[0m\u001b[0;34m)\u001b[0m\u001b[0;34m\u001b[0m\u001b[0;34m\u001b[0m\u001b[0m\n\u001b[1;32m   1551\u001b[0m             _safe_call(_LIB.LGBM_BoosterCreate(\n\u001b[0;32m-> 1552\u001b[0;31m                 \u001b[0mtrain_set\u001b[0m\u001b[0;34m.\u001b[0m\u001b[0mconstruct\u001b[0m\u001b[0;34m(\u001b[0m\u001b[0;34m)\u001b[0m\u001b[0;34m.\u001b[0m\u001b[0mhandle\u001b[0m\u001b[0;34m,\u001b[0m\u001b[0;34m\u001b[0m\u001b[0;34m\u001b[0m\u001b[0m\n\u001b[0m\u001b[1;32m   1553\u001b[0m                 \u001b[0mc_str\u001b[0m\u001b[0;34m(\u001b[0m\u001b[0mparams_str\u001b[0m\u001b[0;34m)\u001b[0m\u001b[0;34m,\u001b[0m\u001b[0;34m\u001b[0m\u001b[0;34m\u001b[0m\u001b[0m\n\u001b[1;32m   1554\u001b[0m                 ctypes.byref(self.handle)))\n",
            "\u001b[0;32m/usr/local/lib/python3.6/dist-packages/lightgbm/basic.py\u001b[0m in \u001b[0;36mconstruct\u001b[0;34m(self)\u001b[0m\n\u001b[1;32m    999\u001b[0m                                 \u001b[0minit_score\u001b[0m\u001b[0;34m=\u001b[0m\u001b[0mself\u001b[0m\u001b[0;34m.\u001b[0m\u001b[0minit_score\u001b[0m\u001b[0;34m,\u001b[0m \u001b[0mpredictor\u001b[0m\u001b[0;34m=\u001b[0m\u001b[0mself\u001b[0m\u001b[0;34m.\u001b[0m\u001b[0m_predictor\u001b[0m\u001b[0;34m,\u001b[0m\u001b[0;34m\u001b[0m\u001b[0;34m\u001b[0m\u001b[0m\n\u001b[1;32m   1000\u001b[0m                                 \u001b[0msilent\u001b[0m\u001b[0;34m=\u001b[0m\u001b[0mself\u001b[0m\u001b[0;34m.\u001b[0m\u001b[0msilent\u001b[0m\u001b[0;34m,\u001b[0m \u001b[0mfeature_name\u001b[0m\u001b[0;34m=\u001b[0m\u001b[0mself\u001b[0m\u001b[0;34m.\u001b[0m\u001b[0mfeature_name\u001b[0m\u001b[0;34m,\u001b[0m\u001b[0;34m\u001b[0m\u001b[0;34m\u001b[0m\u001b[0m\n\u001b[0;32m-> 1001\u001b[0;31m                                 categorical_feature=self.categorical_feature, params=self.params)\n\u001b[0m\u001b[1;32m   1002\u001b[0m             \u001b[0;32mif\u001b[0m \u001b[0mself\u001b[0m\u001b[0;34m.\u001b[0m\u001b[0mfree_raw_data\u001b[0m\u001b[0;34m:\u001b[0m\u001b[0;34m\u001b[0m\u001b[0;34m\u001b[0m\u001b[0m\n\u001b[1;32m   1003\u001b[0m                 \u001b[0mself\u001b[0m\u001b[0;34m.\u001b[0m\u001b[0mdata\u001b[0m \u001b[0;34m=\u001b[0m \u001b[0;32mNone\u001b[0m\u001b[0;34m\u001b[0m\u001b[0;34m\u001b[0m\u001b[0m\n",
            "\u001b[0;32m/usr/local/lib/python3.6/dist-packages/lightgbm/basic.py\u001b[0m in \u001b[0;36m_lazy_init\u001b[0;34m(self, data, label, reference, weight, group, init_score, predictor, silent, feature_name, categorical_feature, params)\u001b[0m\n\u001b[1;32m    727\u001b[0m                                                                                              \u001b[0mfeature_name\u001b[0m\u001b[0;34m,\u001b[0m\u001b[0;34m\u001b[0m\u001b[0;34m\u001b[0m\u001b[0m\n\u001b[1;32m    728\u001b[0m                                                                                              \u001b[0mcategorical_feature\u001b[0m\u001b[0;34m,\u001b[0m\u001b[0;34m\u001b[0m\u001b[0;34m\u001b[0m\u001b[0m\n\u001b[0;32m--> 729\u001b[0;31m                                                                                              self.pandas_categorical)\n\u001b[0m\u001b[1;32m    730\u001b[0m         \u001b[0mlabel\u001b[0m \u001b[0;34m=\u001b[0m \u001b[0m_label_from_pandas\u001b[0m\u001b[0;34m(\u001b[0m\u001b[0mlabel\u001b[0m\u001b[0;34m)\u001b[0m\u001b[0;34m\u001b[0m\u001b[0;34m\u001b[0m\u001b[0m\n\u001b[1;32m    731\u001b[0m         \u001b[0mself\u001b[0m\u001b[0;34m.\u001b[0m\u001b[0mdata_has_header\u001b[0m \u001b[0;34m=\u001b[0m \u001b[0;32mFalse\u001b[0m\u001b[0;34m\u001b[0m\u001b[0;34m\u001b[0m\u001b[0m\n",
            "\u001b[0;32m/usr/local/lib/python3.6/dist-packages/lightgbm/basic.py\u001b[0m in \u001b[0;36m_data_from_pandas\u001b[0;34m(data, feature_name, categorical_feature, pandas_categorical)\u001b[0m\n\u001b[1;32m    244\u001b[0m     \u001b[0;32mif\u001b[0m \u001b[0misinstance\u001b[0m\u001b[0;34m(\u001b[0m\u001b[0mdata\u001b[0m\u001b[0;34m,\u001b[0m \u001b[0mDataFrame\u001b[0m\u001b[0;34m)\u001b[0m\u001b[0;34m:\u001b[0m\u001b[0;34m\u001b[0m\u001b[0;34m\u001b[0m\u001b[0m\n\u001b[1;32m    245\u001b[0m         \u001b[0;32mif\u001b[0m \u001b[0mlen\u001b[0m\u001b[0;34m(\u001b[0m\u001b[0mdata\u001b[0m\u001b[0;34m.\u001b[0m\u001b[0mshape\u001b[0m\u001b[0;34m)\u001b[0m \u001b[0;34m!=\u001b[0m \u001b[0;36m2\u001b[0m \u001b[0;32mor\u001b[0m \u001b[0mdata\u001b[0m\u001b[0;34m.\u001b[0m\u001b[0mshape\u001b[0m\u001b[0;34m[\u001b[0m\u001b[0;36m0\u001b[0m\u001b[0;34m]\u001b[0m \u001b[0;34m<\u001b[0m \u001b[0;36m1\u001b[0m\u001b[0;34m:\u001b[0m\u001b[0;34m\u001b[0m\u001b[0;34m\u001b[0m\u001b[0m\n\u001b[0;32m--> 246\u001b[0;31m             \u001b[0;32mraise\u001b[0m \u001b[0mValueError\u001b[0m\u001b[0;34m(\u001b[0m\u001b[0;34m'Input data must be 2 dimensional and non empty.'\u001b[0m\u001b[0;34m)\u001b[0m\u001b[0;34m\u001b[0m\u001b[0;34m\u001b[0m\u001b[0m\n\u001b[0m\u001b[1;32m    247\u001b[0m         \u001b[0;32mif\u001b[0m \u001b[0mfeature_name\u001b[0m \u001b[0;34m==\u001b[0m \u001b[0;34m'auto'\u001b[0m \u001b[0;32mor\u001b[0m \u001b[0mfeature_name\u001b[0m \u001b[0;32mis\u001b[0m \u001b[0;32mNone\u001b[0m\u001b[0;34m:\u001b[0m\u001b[0;34m\u001b[0m\u001b[0;34m\u001b[0m\u001b[0m\n\u001b[1;32m    248\u001b[0m             \u001b[0mdata\u001b[0m \u001b[0;34m=\u001b[0m \u001b[0mdata\u001b[0m\u001b[0;34m.\u001b[0m\u001b[0mrename\u001b[0m\u001b[0;34m(\u001b[0m\u001b[0mcolumns\u001b[0m\u001b[0;34m=\u001b[0m\u001b[0mstr\u001b[0m\u001b[0;34m)\u001b[0m\u001b[0;34m\u001b[0m\u001b[0;34m\u001b[0m\u001b[0m\n",
            "\u001b[0;31mValueError\u001b[0m: Input data must be 2 dimensional and non empty."
          ]
        }
      ]
    },
    {
      "cell_type": "code",
      "metadata": {
        "id": "MkbPnJek4I9J",
        "colab_type": "code",
        "colab": {}
      },
      "source": [
        "import gc\n",
        "mda = pd.read_csv(\"/content/drive/My Drive/google_notebook/M5_traindata2/train2a_all.csv\")\n",
        "\n",
        "test_data1886_1913 = mda[mda['d'] >= 1886]\n",
        "test_data1886_1913 = test_data1886_1913[test_data1886_1913['d'] <= 1913]\n",
        "test_data1886_1913.to_csv(\"/content/drive/My Drive/google_notebook/M5_traindata2/train_data2a/test_data1886_1913.csv\", index=False)"
      ],
      "execution_count": 0,
      "outputs": []
    }
  ]
}