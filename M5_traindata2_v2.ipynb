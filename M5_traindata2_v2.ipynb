{
  "nbformat": 4,
  "nbformat_minor": 0,
  "metadata": {
    "colab": {
      "name": "M5_traindata2.ipynb",
      "provenance": []
    },
    "kernelspec": {
      "name": "python3",
      "display_name": "Python 3"
    },
    "accelerator": "GPU"
  },
  "cells": [
    {
      "cell_type": "code",
      "metadata": {
        "id": "i_6GlMDNXbEC",
        "colab_type": "code",
        "outputId": "8fa0e9b7-ffb8-41ea-e440-69cdeb95d55e",
        "colab": {
          "base_uri": "https://localhost:8080/",
          "height": 127
        }
      },
      "source": [
        "%matplotlib inline\n",
        "import matplotlib.pyplot as plt\n",
        "import numpy as np\n",
        "import pandas as pd\n",
        "import copy\n",
        "import io\n",
        "from google.colab import drive\n",
        "import threading\n",
        "import time\n",
        "drive.mount('/content/drive')\n"
      ],
      "execution_count": 1,
      "outputs": [
        {
          "output_type": "stream",
          "text": [
            "Go to this URL in a browser: https://accounts.google.com/o/oauth2/auth?client_id=947318989803-6bn6qk8qdgf4n4g3pfee6491hc0brc4i.apps.googleusercontent.com&redirect_uri=urn%3aietf%3awg%3aoauth%3a2.0%3aoob&response_type=code&scope=email%20https%3a%2f%2fwww.googleapis.com%2fauth%2fdocs.test%20https%3a%2f%2fwww.googleapis.com%2fauth%2fdrive%20https%3a%2f%2fwww.googleapis.com%2fauth%2fdrive.photos.readonly%20https%3a%2f%2fwww.googleapis.com%2fauth%2fpeopleapi.readonly\n",
            "\n",
            "Enter your authorization code:\n",
            "··········\n",
            "Mounted at /content/drive\n"
          ],
          "name": "stdout"
        }
      ]
    },
    {
      "cell_type": "code",
      "metadata": {
        "id": "osuRN9pnFDM3",
        "colab_type": "code",
        "outputId": "d731efdc-a64c-425c-9c34-8c112fa9fe57",
        "colab": {
          "base_uri": "https://localhost:8080/",
          "height": 143
        }
      },
      "source": [
        "import glob\n",
        "glob.glob(\"/content/drive/My Drive/google_notebook/M5_traindata2/*\")"
      ],
      "execution_count": 0,
      "outputs": [
        {
          "output_type": "execute_result",
          "data": {
            "text/plain": [
              "['/content/drive/My Drive/google_notebook/M5_traindata2/calendar2.csv',\n",
              " '/content/drive/My Drive/google_notebook/M5_traindata2/calendar.csv',\n",
              " '/content/drive/My Drive/google_notebook/M5_traindata2/sales_train_validation.csv',\n",
              " '/content/drive/My Drive/google_notebook/M5_traindata2/sample_submission.csv',\n",
              " '/content/drive/My Drive/google_notebook/M5_traindata2/sell_prices.csv',\n",
              " '/content/drive/My Drive/google_notebook/M5_traindata2/sell_prices2.csv',\n",
              " '/content/drive/My Drive/google_notebook/M5_traindata2/train_data2a']"
            ]
          },
          "metadata": {
            "tags": []
          },
          "execution_count": 12
        }
      ]
    },
    {
      "cell_type": "code",
      "metadata": {
        "id": "8Lnabt3iZRF4",
        "colab_type": "code",
        "outputId": "5f350645-c7ff-4c37-9a5d-9e597efcca74",
        "colab": {
          "base_uri": "https://localhost:8080/",
          "height": 1000
        }
      },
      "source": [
        "import os.path\n",
        "\n",
        "train_data = pd.read_csv(\"/content/drive/My Drive/google_notebook/M5_traindata2/sales_train_validation.csv\")\n",
        "calendar_data = pd.read_csv(\"/content/drive/My Drive/google_notebook/M5_traindata2/calendar.csv\")\n",
        "sellprices2_data = pd.read_csv(\"/content/drive/My Drive/google_notebook/M5_traindata2/sell_prices2.csv\")\n",
        "calendar_data2 = pd.read_csv(\"/content/drive/My Drive/google_notebook/M5_traindata2/calendar2.csv\")\n",
        "\n",
        "cols = [\"id\", \"item_id\", \"dept_id\", \"cat_id\", \"store_id\", \"state_id\", \"wm_yr_wk\", \"wday\", \"month\", \"year\", \"d\",\n",
        "        \"Religious\", \"National\", \"Cultural\", \"Sporting\", \"snap\", \"price\", \"price_down\", \"price_up\", \"value\"]\n",
        "train_data2a0 = pd.DataFrame(index=[], columns=cols)\n",
        "\n",
        "start_n = 0\n",
        "\n",
        "thread_num = 5 #スレッド数\n",
        "\n",
        "print(len(train_data))\n",
        "\n",
        "current_num = [-1 for jj in range(thread_num)]  # 実行中のファイル番号(重複処理を防ぐ)\n",
        "\n",
        "\n",
        "class traindata2Threading(threading.Thread):\n",
        "\n",
        "    def __init__(self, thread_name):\n",
        "        self.thread_name = str(thread_name)\n",
        "        self.thread_number = int(thread_name)\n",
        "        threading.Thread.__init__(self)\n",
        "\n",
        "    def __str__(self):\n",
        "        return self.thread_name\n",
        "\n",
        "    def run(self):\n",
        "        for ii in range(start_n, len(train_data)):\n",
        "            if ((ii in current_num) == False): #その行は処理されていない\n",
        "                current_num[self.thread_number] = ii\n",
        "                if (os.path.isfile(\"/content/drive/My Drive/google_notebook/M5_traindata2/train_data2a/train2a_\" + str(ii) + \".csv\") == False):  # ファイルがまだ作成されていない\n",
        "                    train_data2a = train_data2a0.copy()\n",
        "                    tra_sir = train_data.iloc[ii]\n",
        "                    datas_base = tra_sir[0:6].tolist()\n",
        "\n",
        "                    sap_mindata = sellprices2_data[sellprices2_data.item_id == datas_base[1]]  # sellpricesの中から必要なデータを抽出\n",
        "                    sap_mindata = sap_mindata[sap_mindata.store_id == datas_base[4]]\n",
        "\n",
        "                    for jj in range(1913):\n",
        "                        cal_sir2 = calendar_data.iloc[jj]\n",
        "                        cal2_sir2 = calendar_data2.iloc[jj]\n",
        "                        sm2 = sap_mindata[sap_mindata.wm_yr_wk == cal_sir2[1]]  # sellpricesの該当行を抽出\n",
        "                        try:\n",
        "                            sap_sir = sm2.iloc[0]\n",
        "\n",
        "                            datas = copy.deepcopy(datas_base)\n",
        "\n",
        "                            kk = [cal_sir2[\"wm_yr_wk\"], cal_sir2[\"wday\"], cal_sir2[\"month\"], cal_sir2[\"year\"], cal_sir2[\"d\"], cal2_sir2[\"Religious\"], cal2_sir2[\"National\"], cal2_sir2[\"Cultural\"], cal2_sir2[\"Sporting\"]]\n",
        "                            datas = datas + kk\n",
        "\n",
        "                            if (datas[5] == \"CA\"):\n",
        "                                datas.append(cal2_sir2[\"snap_CA\"])  # 自分のいる州のsnapを調査\n",
        "                            elif (datas[5] == \"TX\"):\n",
        "                                datas.append(cal2_sir2[\"snap_TX\"])\n",
        "                            elif (datas[5] == \"WI\"):\n",
        "                                datas.append(cal2_sir2[\"snap_WI\"])\n",
        "                            else:\n",
        "                                print(5 / 0)\n",
        "\n",
        "                            kk2 = [sap_sir[\"sell_price\"], sap_sir[\"price_down\"], sap_sir[\"price_up\"], tra_sir[6 + jj]]\n",
        "                            datas = datas + kk2\n",
        "\n",
        "                            kari_t = pd.Series(datas, index=cols)\n",
        "                            train_data2a = train_data2a.append(kari_t, ignore_index=True)\n",
        "\n",
        "                        except:  # 該当価格データが存在しない=販売していない\n",
        "                            pass\n",
        "\n",
        "                    train_data2a.to_csv(\n",
        "                        \"/content/drive/My Drive/google_notebook/M5_traindata2/train_data2a/train2a_\" + str(ii) + \".csv\")\n",
        "                current_num[self.thread_number] = -1\n",
        "                print('\\r', end='')\n",
        "                print(current_num, end='')"
      ],
      "execution_count": 2,
      "outputs": [
        {
          "output_type": "stream",
          "text": [
            "30490\n",
            "thread0\n",
            "[-1, -1, -1, -1, -1]thread1\n",
            "[15, -1, -1, -1, -1]thread2\n",
            "[15, 16, -1, -1, -1]thread3\n",
            "[15, 16, 19, -1, -1]thread4\n",
            "[-1, 96, 100, 99, 98]"
          ],
          "name": "stdout"
        },
        {
          "output_type": "stream",
          "text": [
            "ERROR:root:Internal Python error in the inspect module.\n",
            "Below is the traceback from this internal error.\n",
            "\n"
          ],
          "name": "stderr"
        },
        {
          "output_type": "stream",
          "text": [
            "Traceback (most recent call last):\n",
            "  File \"/usr/local/lib/python3.6/dist-packages/IPython/core/interactiveshell.py\", line 2882, in run_code\n",
            "    exec(code_obj, self.user_global_ns, self.user_ns)\n",
            "  File \"<ipython-input-2-6dd456d78425>\", line 91, in <module>\n",
            "    thread.join()\n",
            "  File \"/usr/lib/python3.6/threading.py\", line 1056, in join\n",
            "    self._wait_for_tstate_lock()\n",
            "  File \"/usr/lib/python3.6/threading.py\", line 1072, in _wait_for_tstate_lock\n",
            "    elif lock.acquire(block, timeout):\n",
            "KeyboardInterrupt\n",
            "\n",
            "During handling of the above exception, another exception occurred:\n",
            "\n",
            "Traceback (most recent call last):\n",
            "  File \"/usr/local/lib/python3.6/dist-packages/IPython/core/interactiveshell.py\", line 1823, in showtraceback\n",
            "    stb = value._render_traceback_()\n",
            "AttributeError: 'KeyboardInterrupt' object has no attribute '_render_traceback_'\n",
            "\n",
            "During handling of the above exception, another exception occurred:\n",
            "\n",
            "Traceback (most recent call last):\n",
            "  File \"/usr/local/lib/python3.6/dist-packages/IPython/core/ultratb.py\", line 1132, in get_records\n",
            "    return _fixed_getinnerframes(etb, number_of_lines_of_context, tb_offset)\n",
            "  File \"/usr/local/lib/python3.6/dist-packages/IPython/core/ultratb.py\", line 313, in wrapped\n",
            "    return f(*args, **kwargs)\n",
            "  File \"/usr/local/lib/python3.6/dist-packages/IPython/core/ultratb.py\", line 358, in _fixed_getinnerframes\n",
            "    records = fix_frame_records_filenames(inspect.getinnerframes(etb, context))\n",
            "  File \"/usr/lib/python3.6/inspect.py\", line 1490, in getinnerframes\n",
            "    frameinfo = (tb.tb_frame,) + getframeinfo(tb, context)\n",
            "  File \"/usr/lib/python3.6/inspect.py\", line 1448, in getframeinfo\n",
            "    filename = getsourcefile(frame) or getfile(frame)\n",
            "  File \"/usr/lib/python3.6/inspect.py\", line 696, in getsourcefile\n",
            "    if getattr(getmodule(object, filename), '__loader__', None) is not None:\n",
            "  File \"/usr/lib/python3.6/inspect.py\", line 742, in getmodule\n",
            "    os.path.realpath(f)] = module.__name__\n",
            "  File \"/usr/lib/python3.6/posixpath.py\", line 395, in realpath\n",
            "    path, ok = _joinrealpath(filename[:0], filename, {})\n",
            "  File \"/usr/lib/python3.6/posixpath.py\", line 429, in _joinrealpath\n",
            "    if not islink(newpath):\n",
            "  File \"/usr/lib/python3.6/posixpath.py\", line 171, in islink\n",
            "    st = os.lstat(path)\n",
            "KeyboardInterrupt\n"
          ],
          "name": "stdout"
        },
        {
          "output_type": "error",
          "ename": "KeyboardInterrupt",
          "evalue": "ignored",
          "traceback": [
            "\u001b[0;31m---------------------------------------------------------------------------\u001b[0m"
          ]
        }
      ]
    },
    {
      "cell_type": "code",
      "metadata": {
        "id": "KGN11XKPNjrw",
        "colab_type": "code",
        "outputId": "c475bd33-c798-4cc4-c017-4a70b470cf50",
        "colab": {
          "base_uri": "https://localhost:8080/",
          "height": 35
        }
      },
      "source": [
        "current_num"
      ],
      "execution_count": 0,
      "outputs": [
        {
          "output_type": "execute_result",
          "data": {
            "text/plain": [
              "[643, 644, 645]"
            ]
          },
          "metadata": {
            "tags": []
          },
          "execution_count": 12
        }
      ]
    }
  ]
}