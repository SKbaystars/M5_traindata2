{
  "nbformat": 4,
  "nbformat_minor": 0,
  "metadata": {
    "colab": {
      "name": "M5_traindata2.ipynb",
      "provenance": []
    },
    "kernelspec": {
      "name": "python3",
      "display_name": "Python 3"
    },
    "accelerator": "TPU"
  },
  "cells": [
    {
      "cell_type": "code",
      "metadata": {
        "id": "i_6GlMDNXbEC",
        "colab_type": "code",
        "outputId": "f738c941-b010-4036-c0e9-0a513a7fc747",
        "colab": {
          "base_uri": "https://localhost:8080/",
          "height": 55
        }
      },
      "source": [
        "%matplotlib inline\n",
        "import matplotlib.pyplot as plt\n",
        "import numpy as np\n",
        "import pandas as pd\n",
        "import copy\n",
        "import io\n",
        "from google.colab import drive\n",
        "drive.mount('/content/drive')\n"
      ],
      "execution_count": 12,
      "outputs": [
        {
          "output_type": "stream",
          "text": [
            "Drive already mounted at /content/drive; to attempt to forcibly remount, call drive.mount(\"/content/drive\", force_remount=True).\n"
          ],
          "name": "stdout"
        }
      ]
    },
    {
      "cell_type": "code",
      "metadata": {
        "id": "8Lnabt3iZRF4",
        "colab_type": "code",
        "outputId": "2553bed6-0305-4963-e53d-eae9d1c2cb5f",
        "colab": {
          "base_uri": "https://localhost:8080/",
          "height": 53
        }
      },
      "source": [
        "import os.path\n",
        "\n",
        "train_data = pd.read_csv(\"./sales_train_validation.csv\")\n",
        "calendar_data = pd.read_csv(\"./calendar.csv\")\n",
        "sellprices2_data = pd.read_csv(\"./sell_prices2.csv\")\n",
        "calendar_data2 = pd.read_csv(\"./calendar2.csv\")\n",
        "\n",
        "cols = [\"id\", \"item_id\", \"dept_id\", \"cat_id\", \"store_id\", \"state_id\", \"wm_yr_wk\", \"wday\", \"month\", \"year\", \"d\",\n",
        "        \"Religious\", \"National\", \"Cultural\", \"Sporting\", \"snap\", \"price\", \"price_down\", \"price_up\", \"value\"]\n",
        "train_data2a0 = pd.DataFrame(index=[], columns=cols)\n",
        "\n",
        "start_n = 0\n",
        "\n",
        "print(len(train_data))\n",
        "\n",
        "for ii in range(start_n, len(train_data)):\n",
        "    if (os.path.isfile(\"./train_data2a/train2a_\" + str(ii) + \".csv\") == False): #ファイルがまだ作成されていない\n",
        "        train_data2a = train_data2a0.copy()\n",
        "        tra_sir = train_data.iloc[ii]\n",
        "        datas_base = tra_sir[0:6].tolist()\n",
        "\n",
        "        sap_mindata = sellprices2_data[sellprices2_data.item_id == datas_base[1]]  # sellpricesの中から必要なデータを抽出\n",
        "        sap_mindata = sap_mindata[sap_mindata.store_id == datas_base[4]]\n",
        "\n",
        "        for jj in range(1913):\n",
        "            cal_sir2 = calendar_data.iloc[jj]\n",
        "            cal2_sir2 = calendar_data2.iloc[jj]\n",
        "            sm2 = sap_mindata[sap_mindata.wm_yr_wk == cal_sir2[1]]  # sellpricesの該当行を抽出\n",
        "            try:\n",
        "                sap_sir = sm2.iloc[0]\n",
        "\n",
        "                datas = copy.deepcopy(datas_base)\n",
        "                kk = [cal_sir2[1], cal_sir2[3], cal_sir2[4], cal_sir2[5], cal_sir2[6], cal2_sir2[1], cal2_sir2[2], cal_sir2[3],\n",
        "                      cal_sir2[4]]\n",
        "                datas = datas + kk\n",
        "\n",
        "                if (datas[5] == \"CA\"):\n",
        "                    datas.append(cal2_sir2[5])  # 自分のいる州のsnapを調査\n",
        "                elif (datas[5] == \"TX\"):\n",
        "                    datas.append(cal2_sir2[6])\n",
        "                elif (datas[5] == \"WI\"):\n",
        "                    datas.append(cal2_sir2[7])\n",
        "                else:\n",
        "                    print(5 / 0)\n",
        "\n",
        "\n",
        "                kk2 = [sap_sir[3], sap_sir[4], sap_sir[5], tra_sir[6 + jj]]\n",
        "                datas = datas + kk2\n",
        "\n",
        "                kari_t = pd.Series(datas, index=cols)\n",
        "                train_data2a = train_data2a.append(kari_t, ignore_index=True)\n",
        "\n",
        "            except:  # 該当価格データが存在しない=販売していない\n",
        "                pass\n",
        "\n",
        "        train_data2a.to_csv(\"./train_data2a/train2a_\" + str(ii) + \".csv\")\n",
        "    print('\\r %d' % ii, end='')"
      ],
      "execution_count": 0,
      "outputs": [
        {
          "output_type": "stream",
          "text": [
            "30490\n",
            " 262"
          ],
          "name": "stdout"
        }
      ]
    }
  ]
}