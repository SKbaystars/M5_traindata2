{
  "nbformat": 4,
  "nbformat_minor": 0,
  "metadata": {
    "colab": {
      "name": "M5_traindata2.ipynb",
      "provenance": []
    },
    "kernelspec": {
      "name": "python3",
      "display_name": "Python 3"
    },
    "accelerator": "TPU"
  },
  "cells": [
    {
      "cell_type": "code",
      "metadata": {
        "id": "i_6GlMDNXbEC",
        "colab_type": "code",
        "outputId": "cc0e3d46-860c-48ef-c732-2ebd5b56d010",
        "colab": {
          "base_uri": "https://localhost:8080/",
          "height": 127
        }
      },
      "source": [
        "%matplotlib inline\n",
        "import matplotlib.pyplot as plt\n",
        "import numpy as np\n",
        "import pandas as pd\n",
        "import copy\n",
        "import io\n",
        "from google.colab import drive\n",
        "drive.mount('/content/drive')\n"
      ],
      "execution_count": 5,
      "outputs": [
        {
          "output_type": "stream",
          "text": [
            "Go to this URL in a browser: https://accounts.google.com/o/oauth2/auth?client_id=947318989803-6bn6qk8qdgf4n4g3pfee6491hc0brc4i.apps.googleusercontent.com&redirect_uri=urn%3aietf%3awg%3aoauth%3a2.0%3aoob&response_type=code&scope=email%20https%3a%2f%2fwww.googleapis.com%2fauth%2fdocs.test%20https%3a%2f%2fwww.googleapis.com%2fauth%2fdrive%20https%3a%2f%2fwww.googleapis.com%2fauth%2fdrive.photos.readonly%20https%3a%2f%2fwww.googleapis.com%2fauth%2fpeopleapi.readonly\n",
            "\n",
            "Enter your authorization code:\n",
            "··········\n",
            "Mounted at /content/drive\n"
          ],
          "name": "stdout"
        }
      ]
    },
    {
      "cell_type": "code",
      "metadata": {
        "id": "osuRN9pnFDM3",
        "colab_type": "code",
        "colab": {
          "base_uri": "https://localhost:8080/",
          "height": 143
        },
        "outputId": "d731efdc-a64c-425c-9c34-8c112fa9fe57"
      },
      "source": [
        "import glob\n",
        "glob.glob(\"/content/drive/My Drive/google_notebook/M5_traindata2/*\")"
      ],
      "execution_count": 12,
      "outputs": [
        {
          "output_type": "execute_result",
          "data": {
            "text/plain": [
              "['/content/drive/My Drive/google_notebook/M5_traindata2/calendar2.csv',\n",
              " '/content/drive/My Drive/google_notebook/M5_traindata2/calendar.csv',\n",
              " '/content/drive/My Drive/google_notebook/M5_traindata2/sales_train_validation.csv',\n",
              " '/content/drive/My Drive/google_notebook/M5_traindata2/sample_submission.csv',\n",
              " '/content/drive/My Drive/google_notebook/M5_traindata2/sell_prices.csv',\n",
              " '/content/drive/My Drive/google_notebook/M5_traindata2/sell_prices2.csv',\n",
              " '/content/drive/My Drive/google_notebook/M5_traindata2/train_data2a']"
            ]
          },
          "metadata": {
            "tags": []
          },
          "execution_count": 12
        }
      ]
    },
    {
      "cell_type": "code",
      "metadata": {
        "id": "8Lnabt3iZRF4",
        "colab_type": "code",
        "outputId": "467d73aa-fbfe-449a-f11b-c8df0abd1a10",
        "colab": {
          "base_uri": "https://localhost:8080/",
          "height": 245
        }
      },
      "source": [
        "import os.path\n",
        "\n",
        "train_data = pd.read_csv(\"/content/drive/My Drive/google_notebook/M5_traindata2/sales_train_validation.csv\")\n",
        "calendar_data = pd.read_csv(\"/content/drive/My Drive/google_notebook/M5_traindata2/calendar.csv\")\n",
        "sellprices2_data = pd.read_csv(\"/content/drive/My Drive/google_notebook/M5_traindata2/sell_prices2.csv\")\n",
        "calendar_data2 = pd.read_csv(\"/content/drive/My Drive/google_notebook/M5_traindata2/calendar2.csv\")\n",
        "\n",
        "cols = [\"id\", \"item_id\", \"dept_id\", \"cat_id\", \"store_id\", \"state_id\", \"wm_yr_wk\", \"wday\", \"month\", \"year\", \"d\",\n",
        "        \"Religious\", \"National\", \"Cultural\", \"Sporting\", \"snap\", \"price\", \"price_down\", \"price_up\", \"value\"]\n",
        "train_data2a0 = pd.DataFrame(index=[], columns=cols)\n",
        "\n",
        "start_n = 0\n",
        "\n",
        "print(len(train_data))\n",
        "\n",
        "for ii in range(start_n, len(train_data)):\n",
        "    if (os.path.isfile(\"/content/drive/My Drive/google_notebook/M5_traindata2/train_data2a/train2a_\" + str(ii) + \".csv\") == False): #ファイルがまだ作成されていない\n",
        "        train_data2a = train_data2a0.copy()\n",
        "        tra_sir = train_data.iloc[ii]\n",
        "        datas_base = tra_sir[0:6].tolist()\n",
        "\n",
        "        sap_mindata = sellprices2_data[sellprices2_data.item_id == datas_base[1]]  # sellpricesの中から必要なデータを抽出\n",
        "        sap_mindata = sap_mindata[sap_mindata.store_id == datas_base[4]]\n",
        "\n",
        "        for jj in range(1913):\n",
        "            cal_sir2 = calendar_data.iloc[jj]\n",
        "            cal2_sir2 = calendar_data2.iloc[jj]\n",
        "            sm2 = sap_mindata[sap_mindata.wm_yr_wk == cal_sir2[1]]  # sellpricesの該当行を抽出\n",
        "            try:\n",
        "                sap_sir = sm2.iloc[0]\n",
        "\n",
        "                datas = copy.deepcopy(datas_base)\n",
        "                kk = [cal_sir2[1], cal_sir2[3], cal_sir2[4], cal_sir2[5], cal_sir2[6], cal2_sir2[1], cal2_sir2[2], cal_sir2[3],\n",
        "                      cal_sir2[4]]\n",
        "                datas = datas + kk\n",
        "\n",
        "                if (datas[5] == \"CA\"):\n",
        "                    datas.append(cal2_sir2[5])  # 自分のいる州のsnapを調査\n",
        "                elif (datas[5] == \"TX\"):\n",
        "                    datas.append(cal2_sir2[6])\n",
        "                elif (datas[5] == \"WI\"):\n",
        "                    datas.append(cal2_sir2[7])\n",
        "                else:\n",
        "                    print(5 / 0)\n",
        "\n",
        "\n",
        "                kk2 = [sap_sir[3], sap_sir[4], sap_sir[5], tra_sir[6 + jj]]\n",
        "                datas = datas + kk2\n",
        "\n",
        "                kari_t = pd.Series(datas, index=cols)\n",
        "                train_data2a = train_data2a.append(kari_t, ignore_index=True)\n",
        "\n",
        "            except:  # 該当価格データが存在しない=販売していない\n",
        "                pass\n",
        "\n",
        "        train_data2a.to_csv(\"/content/drive/My Drive/google_notebook/M5_traindata2/train_data2a/train2a_\" + str(ii) + \".csv\")\n",
        "    print('\\r %d' % ii, end='')"
      ],
      "execution_count": 1,
      "outputs": [
        {
          "output_type": "error",
          "ename": "NameError",
          "evalue": "ignored",
          "traceback": [
            "\u001b[0;31m---------------------------------------------------------------------------\u001b[0m",
            "\u001b[0;31mNameError\u001b[0m                                 Traceback (most recent call last)",
            "\u001b[0;32m<ipython-input-1-9ec9296387d3>\u001b[0m in \u001b[0;36m<module>\u001b[0;34m()\u001b[0m\n\u001b[1;32m      1\u001b[0m \u001b[0;32mimport\u001b[0m \u001b[0mos\u001b[0m\u001b[0;34m.\u001b[0m\u001b[0mpath\u001b[0m\u001b[0;34m\u001b[0m\u001b[0;34m\u001b[0m\u001b[0m\n\u001b[1;32m      2\u001b[0m \u001b[0;34m\u001b[0m\u001b[0m\n\u001b[0;32m----> 3\u001b[0;31m \u001b[0mtrain_data\u001b[0m \u001b[0;34m=\u001b[0m \u001b[0mpd\u001b[0m\u001b[0;34m.\u001b[0m\u001b[0mread_csv\u001b[0m\u001b[0;34m(\u001b[0m\u001b[0;34m\"./sales_train_validation.csv\"\u001b[0m\u001b[0;34m)\u001b[0m\u001b[0;34m\u001b[0m\u001b[0;34m\u001b[0m\u001b[0m\n\u001b[0m\u001b[1;32m      4\u001b[0m \u001b[0mcalendar_data\u001b[0m \u001b[0;34m=\u001b[0m \u001b[0mpd\u001b[0m\u001b[0;34m.\u001b[0m\u001b[0mread_csv\u001b[0m\u001b[0;34m(\u001b[0m\u001b[0;34m\"./calendar.csv\"\u001b[0m\u001b[0;34m)\u001b[0m\u001b[0;34m\u001b[0m\u001b[0;34m\u001b[0m\u001b[0m\n\u001b[1;32m      5\u001b[0m \u001b[0msellprices2_data\u001b[0m \u001b[0;34m=\u001b[0m \u001b[0mpd\u001b[0m\u001b[0;34m.\u001b[0m\u001b[0mread_csv\u001b[0m\u001b[0;34m(\u001b[0m\u001b[0;34m\"./sell_prices2.csv\"\u001b[0m\u001b[0;34m)\u001b[0m\u001b[0;34m\u001b[0m\u001b[0;34m\u001b[0m\u001b[0m\n",
            "\u001b[0;31mNameError\u001b[0m: name 'pd' is not defined"
          ]
        }
      ]
    }
  ]
}